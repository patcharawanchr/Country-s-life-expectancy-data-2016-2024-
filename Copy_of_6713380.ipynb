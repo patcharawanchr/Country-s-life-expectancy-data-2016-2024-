{
  "cells": [
    {
      "cell_type": "markdown",
      "metadata": {
        "id": "view-in-github",
        "colab_type": "text"
      },
      "source": [
        "<a href=\"https://colab.research.google.com/github/patcharawanchr/Country-s-life-expectancy-data-2016-2024-/blob/main/Copy_of_6713380.ipynb\" target=\"_parent\"><img src=\"https://colab.research.google.com/assets/colab-badge.svg\" alt=\"Open In Colab\"/></a>"
      ]
    },
    {
      "cell_type": "markdown",
      "id": "e074d245",
      "metadata": {
        "id": "e074d245"
      },
      "source": [
        "# EGBI 222 - Midterm Examination (Python)\n",
        "\n",
        "- Biomedical Engineering - Year 2\n",
        "- Date: 1 October 2025\n",
        "- Time: 3 hours (9 AM - 12 PM)\n",
        "- There are 7 questions, 100 points\n",
        "- Total Points will be calculated toward 30 % of the 100% for calculating the grade\n",
        "- After finishing the exam, you must submit the file named **studentID.ipynb** to this https://forms.gle/V7eVfBAmmJpwGr9o6"
      ]
    },
    {
      "cell_type": "markdown",
      "id": "b27da991",
      "metadata": {
        "id": "b27da991"
      },
      "source": [
        "### Exam Grading and Procedure\n",
        "- This exam book will be graded by an automated testing script base on python\n",
        "- The answer format functions or class structure will be provided in the code\n",
        "  - To answer each question, your answer should be in *functions* or *class*.\n",
        "- All Requirements will be provided for each question including,\n",
        "  - structure and type of input parameter(s)\n",
        "  - structure and type of output(s)\n",
        "  - example test case (set of example input paramter(s))\n",
        "  - expected output of eac test case (example output for the given set of input)\n",
        "- Your code will be graded with the given test case, and also with a **blind** test case\n",
        "  - blind test case are generated with the same condition and type with example test case, but may change in values, order, etc."
      ]
    },
    {
      "cell_type": "markdown",
      "id": "80b094fa",
      "metadata": {
        "id": "80b094fa"
      },
      "source": [
        "### Example Question 0\n",
        "\n",
        "implement the function that perform with thiese condition\n",
        "- receives 2 `int` `param_a` and `param_b`\n",
        "- perform mathematical addition operation\n",
        "- return result with type `int`\n",
        "- Set of example input and output\n",
        "  - case 0:\n",
        "  ```\n",
        "  # input case 0\n",
        "  >>> param_a = 1\n",
        "  >>> param_b = 2\n",
        "\n",
        "  # test case 0\n",
        "\n",
        "  >>> c = question_0(param_a, param_b)\n",
        "\n",
        "  # expected result\n",
        "  >>> print(c)\n",
        "  3\n",
        "  >>> print(type(c))\n",
        "  <class 'int'>\n",
        "  ```"
      ]
    },
    {
      "cell_type": "code",
      "execution_count": null,
      "id": "8c0e6b80",
      "metadata": {
        "id": "8c0e6b80"
      },
      "outputs": [],
      "source": [
        "def question_0(param_a, param_b):\n",
        "    '''\n",
        "        TODO: perform mathematical operation here\n",
        "    '''\n",
        "    return # TODO: return result with type int here"
      ]
    },
    {
      "cell_type": "code",
      "execution_count": null,
      "id": "065553bd",
      "metadata": {
        "id": "065553bd"
      },
      "outputs": [],
      "source": [
        "# example answer\n",
        "def question_0(param_a, param_b):\n",
        "    c = param_a + param_b\n",
        "    return c"
      ]
    },
    {
      "cell_type": "markdown",
      "id": "bd079899",
      "metadata": {
        "id": "bd079899"
      },
      "source": [
        "### Guide on checking your answer\n",
        "- You could check the type or structure of your answer by\n",
        "  - call the function with example input paramter(s)\n",
        "  - obtain result and assign to a variable\n",
        "  - use `print` to check your output and output `type`"
      ]
    },
    {
      "cell_type": "code",
      "execution_count": null,
      "id": "7f149e12",
      "metadata": {
        "id": "7f149e12"
      },
      "outputs": [],
      "source": [
        "param_a = 1\n",
        "param_b = 2\n",
        "c = question_0(param_a, param_b)\n",
        "print(c) # 3\n",
        "print(type(c)) # <class 'int'>"
      ]
    },
    {
      "cell_type": "markdown",
      "id": "402b510e",
      "metadata": {
        "id": "402b510e"
      },
      "source": [
        "### Question 1 (4 points):\n",
        "Using the ``os`` module to:\n",
        "1. Creates a directory named /egbi222/\n",
        "2. Creates a text file named answer_1.txt inside that directory.\n",
        "3. Writes the following pattern into the file:\n",
        "```\n",
        "   *\n",
        "  * *\n",
        " * * *\n",
        "* * * *\n",
        " * * *\n",
        "  * *\n",
        "   *\n",
        "```\n",
        "Important requirements:\n",
        "- The directory and file must be created in the exact order specified.\n",
        "- Each **'*'** must be generated using a for-loop (not hardcoded).\n",
        "- Every whitespace **' '** must be explicitly counted when generating the pattern.\n"
      ]
    },
    {
      "cell_type": "code",
      "execution_count": null,
      "id": "5b754b2b",
      "metadata": {
        "id": "5b754b2b",
        "colab": {
          "base_uri": "https://localhost:8080/",
          "height": 106
        },
        "outputId": "2a97d5c2-448d-445e-8865-7770047a1622"
      },
      "outputs": [
        {
          "output_type": "error",
          "ename": "IndentationError",
          "evalue": "unindent does not match any outer indentation level (<tokenize>, line 11)",
          "traceback": [
            "\u001b[0;36m  File \u001b[0;32m\"<tokenize>\"\u001b[0;36m, line \u001b[0;32m11\u001b[0m\n\u001b[0;31m    with open(\"egbi_222/answes_1.txt\", \"w\", encoding=\"utf-8\") as f:\u001b[0m\n\u001b[0m    ^\u001b[0m\n\u001b[0;31mIndentationError\u001b[0m\u001b[0;31m:\u001b[0m unindent does not match any outer indentation level\n"
          ]
        }
      ],
      "source": [
        "import os\n",
        "\n",
        "def question_1(max_rows):\n",
        "    # TODO: Generate a diamond-shaped star pattern with max_rows as the widest row\n",
        "  os.makedirs(\"egbi_222\", exist_ok=True)\n",
        "  try:\n",
        "        with open(\"data.txt\", \"r\", encoding=\"utf-8\") as f:\n",
        "            content = f.read().rstrip(\"\\n\")\n",
        "  except FileNotFoundError:\n",
        "        content = \"\"\n",
        "    with open(\"egbi_222/answes_1.txt\", \"w\", encoding=\"utf-8\") as f:\n",
        "        f.write((content + \"\\n\" if content else \"\") + text + \"\\n\")\n",
        "    return \"egbi_222/answes_1.txt\"\n",
        "path = question_1(\"This is an appended line.\")\n",
        "print(path)  # egbi_222/answes_1.txt"
      ]
    },
    {
      "cell_type": "code",
      "execution_count": 1,
      "metadata": {
        "id": "26255594",
        "colab": {
          "base_uri": "https://localhost:8080/",
          "height": 211
        },
        "outputId": "988417ca-678f-4d1f-d815-c0445f821acb"
      },
      "outputs": [
        {
          "output_type": "error",
          "ename": "NameError",
          "evalue": "name 'question_1' is not defined",
          "traceback": [
            "\u001b[0;31m---------------------------------------------------------------------------\u001b[0m",
            "\u001b[0;31mNameError\u001b[0m                                 Traceback (most recent call last)",
            "\u001b[0;32m/tmp/ipython-input-1515311462.py\u001b[0m in \u001b[0;36m<cell line: 0>\u001b[0;34m()\u001b[0m\n\u001b[1;32m      2\u001b[0m \u001b[0;32mimport\u001b[0m \u001b[0mos\u001b[0m\u001b[0;34m\u001b[0m\u001b[0;34m\u001b[0m\u001b[0m\n\u001b[1;32m      3\u001b[0m \u001b[0;34m\u001b[0m\u001b[0m\n\u001b[0;32m----> 4\u001b[0;31m \u001b[0mquestion_1\u001b[0m\u001b[0;34m(\u001b[0m\u001b[0;34m\"*\"\u001b[0m\u001b[0;34m)\u001b[0m\u001b[0;34m\u001b[0m\u001b[0;34m\u001b[0m\u001b[0m\n\u001b[0m\u001b[1;32m      5\u001b[0m \u001b[0;32mwith\u001b[0m \u001b[0mopen\u001b[0m\u001b[0;34m(\u001b[0m\u001b[0;34m\"egbi_222/answes_1.txt\"\u001b[0m\u001b[0;34m,\u001b[0m \u001b[0;34m\"r\"\u001b[0m\u001b[0;34m,\u001b[0m \u001b[0mencoding\u001b[0m\u001b[0;34m=\u001b[0m\u001b[0;34m\"utf-8\"\u001b[0m\u001b[0;34m)\u001b[0m \u001b[0;32mas\u001b[0m \u001b[0mf\u001b[0m\u001b[0;34m:\u001b[0m\u001b[0;34m\u001b[0m\u001b[0;34m\u001b[0m\u001b[0m\n\u001b[1;32m      6\u001b[0m     \u001b[0mprint\u001b[0m\u001b[0;34m(\u001b[0m\u001b[0mf\u001b[0m\u001b[0;34m.\u001b[0m\u001b[0mread\u001b[0m\u001b[0;34m(\u001b[0m\u001b[0;34m)\u001b[0m\u001b[0;34m,\u001b[0m \u001b[0mend\u001b[0m\u001b[0;34m=\u001b[0m\u001b[0;34m\"\"\u001b[0m\u001b[0;34m)\u001b[0m\u001b[0;34m\u001b[0m\u001b[0;34m\u001b[0m\u001b[0m\n",
            "\u001b[0;31mNameError\u001b[0m: name 'question_1' is not defined"
          ]
        }
      ],
      "source": [
        "#question_1(4)\n",
        "import os\n",
        "\n",
        "question_1(\"*\")\n",
        "with open(\"egbi_222/answes_1.txt\", \"r\", encoding=\"utf-8\") as f:\n",
        "    print(f.read(), end=\"\")\n",
        "\n",
        "\n",
        "\n",
        "\n"
      ],
      "id": "26255594"
    },
    {
      "cell_type": "markdown",
      "id": "89af71f5",
      "metadata": {
        "id": "89af71f5"
      },
      "source": [
        "Example Output (saved in answer_1.txt):\n",
        "```\n",
        "   *\n",
        "  * *\n",
        " * * *\n",
        "* * * *\n",
        " * * *\n",
        "  * *\n",
        "   *\n",
        "```"
      ]
    },
    {
      "cell_type": "markdown",
      "id": "e7dfbae6",
      "metadata": {
        "id": "e7dfbae6"
      },
      "source": [
        "### Question 2 (1 points):\n",
        "Using only ``datetime`` (do not use ``pytz`` or ``time``)\n",
        "\n",
        "Write a Python function that:\n",
        "- Accepts a UTC datetime string in the format ``\"YYYY-MM-DD HH:MM:SS\"`` (e.g., ``\"2024-09-24 21:33:00\"``)\n",
        "- Converts it to the corresponding local time in ISO 8601 string format for each of the following time zones:\n",
        "  - ACST (UTC+9:30)\n",
        "  - ICT (UTC+7)\n",
        "  - CEST (UTC+2)\n",
        "  - GMT (UTC+0)\n",
        "  - EDT (UTC-4)\n",
        "  - MDT (UTC-6)\n",
        "\n",
        "The function should return a dictionary mapping each timezone abbreviation to its local time string, using the structure below:\n",
        "```\n",
        "{\n",
        "    'ACST': str,\n",
        "    'ICT': str,\n",
        "    'CEST': str,\n",
        "    'GMT': str,\n",
        "    'EDT': str,\n",
        "    'MDT': str,\n",
        "}\n",
        "```"
      ]
    },
    {
      "cell_type": "code",
      "execution_count": null,
      "id": "eeb5b741",
      "metadata": {
        "id": "eeb5b741",
        "colab": {
          "base_uri": "https://localhost:8080/",
          "height": 106
        },
        "outputId": "f72eaa5f-4f2d-49c0-8984-fd8924dadfbd"
      },
      "outputs": [
        {
          "output_type": "error",
          "ename": "SyntaxError",
          "evalue": "leading zeros in decimal integer literals are not permitted; use an 0o prefix for octal integers (ipython-input-213686915.py, line 6)",
          "traceback": [
            "\u001b[0;36m  File \u001b[0;32m\"/tmp/ipython-input-213686915.py\"\u001b[0;36m, line \u001b[0;32m6\u001b[0m\n\u001b[0;31m    print('Today Datetime:',2024-09-24 21:33:00)\u001b[0m\n\u001b[0m                                 ^\u001b[0m\n\u001b[0;31mSyntaxError\u001b[0m\u001b[0;31m:\u001b[0m leading zeros in decimal integer literals are not permitted; use an 0o prefix for octal integers\n"
          ]
        }
      ],
      "source": [
        "def question_2(input_date):\n",
        "    # TODO: Implement the calculations\n",
        " from datetime import datetime\n",
        "\n",
        "today = datetime.now()\n",
        "print('Today Datetime:',)\n",
        "\n",
        "# Get current ISO 8601 datetime in string format\n",
        "iso_date = today.isoformat()\n",
        "print('ISO DateTime:', iso_date)\n",
        "\n",
        "return {\n",
        "        'ACST' :iso_date,\n",
        "        'ICT': iso_date,\n",
        "        'CEST':iso_date ,\n",
        "        'GMT': iso_date,\n",
        "        'EDT': iso_date,\n",
        "        'MDT':iso_date ,\n",
        "    }"
      ]
    },
    {
      "cell_type": "code",
      "execution_count": 2,
      "id": "fd4c5e02",
      "metadata": {
        "id": "fd4c5e02",
        "colab": {
          "base_uri": "https://localhost:8080/",
          "height": 106
        },
        "outputId": "2a7f82b2-137d-4de3-c942-18a1386a3a55"
      },
      "outputs": [
        {
          "output_type": "error",
          "ename": "SyntaxError",
          "evalue": "leading zeros in decimal integer literals are not permitted; use an 0o prefix for octal integers (ipython-input-64413292.py, line 4)",
          "traceback": [
            "\u001b[0;36m  File \u001b[0;32m\"/tmp/ipython-input-64413292.py\"\u001b[0;36m, line \u001b[0;32m4\u001b[0m\n\u001b[0;31m    def question_2(2024-09-24 21:33:00):\u001b[0m\n\u001b[0m                        ^\u001b[0m\n\u001b[0;31mSyntaxError\u001b[0m\u001b[0;31m:\u001b[0m leading zeros in decimal integer literals are not permitted; use an 0o prefix for octal integers\n"
          ]
        }
      ],
      "source": [
        " #question_2(2024-09-24 21:33:00):\n",
        " import datetime.UTC\n",
        "\n",
        " def question_2(2024-09-24 21:33:00):\n",
        "\n",
        "\n",
        "  return {\n",
        "      \"ACST\": ,\n",
        "      \"ICT\": ,\n",
        "      \"CEST\": ,\n",
        "      \"GMT\": ,\n",
        "      \"EDT\": ,\n",
        "      \"MDT\": ,\n",
        "   }\n",
        "\n",
        "print\n",
        "\n",
        "\n"
      ]
    },
    {
      "cell_type": "markdown",
      "id": "4cfc3f5e",
      "metadata": {
        "id": "4cfc3f5e"
      },
      "source": [
        "Result:\n",
        "```\n",
        "{\n",
        "    'ACST': '2024-09-25T07:03:00',\n",
        "    'ICT': '2024-09-25T04:33:00',\n",
        "    'CEST': '2024-09-24T23:33:00',\n",
        "    'GMT': '2024-09-24T21:33:00',\n",
        "    'EDT': '2024-09-24T17:33:00',\n",
        "    'MDT': '2024-09-24T15:33:00'\n",
        "}\n",
        "```"
      ]
    },
    {
      "cell_type": "markdown",
      "id": "b493be40",
      "metadata": {
        "id": "b493be40"
      },
      "source": [
        "### Question 3 (3 points):\n",
        "Using the ``datetime`` module that, given a date in the format \"d/m/y\":\n",
        "1. Returns the week number of the year for that date.\n",
        "2. Determines whether the date is the second Wednesday of the month.\n",
        "3. Finds the third Saturday of the same month.\n",
        "\n",
        "The program should return the result as a dictionary in the following format:\n",
        "```\n",
        "{\n",
        "    'is_second_wednesday': bool,\n",
        "    'third_saturday': datetime.datetime,\n",
        "    'week_number': int\n",
        "}\n",
        "```\n",
        "\n",
        "\n"
      ]
    },
    {
      "cell_type": "code",
      "execution_count": 3,
      "id": "1c45b6fc",
      "metadata": {
        "id": "1c45b6fc",
        "colab": {
          "base_uri": "https://localhost:8080/",
          "height": 106
        },
        "outputId": "6b48c7aa-f89c-4e9a-ac23-411a4080f195"
      },
      "outputs": [
        {
          "output_type": "error",
          "ename": "SyntaxError",
          "evalue": "invalid syntax (ipython-input-3487428379.py, line 3)",
          "traceback": [
            "\u001b[0;36m  File \u001b[0;32m\"/tmp/ipython-input-3487428379.py\"\u001b[0;36m, line \u001b[0;32m3\u001b[0m\n\u001b[0;31m    Args:\u001b[0m\n\u001b[0m         ^\u001b[0m\n\u001b[0;31mSyntaxError\u001b[0m\u001b[0;31m:\u001b[0m invalid syntax\n"
          ]
        }
      ],
      "source": [
        "import datetime\n",
        "def question_3(input_date):\n",
        "   Args:\n",
        "        input_date (date): The date to check\n",
        "   Returns:\n",
        "        bool: True if the date is the second Wednesday, False otherwise.\n"
      ]
    },
    {
      "cell_type": "code",
      "execution_count": null,
      "id": "69b61086",
      "metadata": {
        "id": "69b61086",
        "colab": {
          "base_uri": "https://localhost:8080/",
          "height": 106
        },
        "outputId": "6f8aa406-6101-42dd-c7e9-e8dc58fbb7c4"
      },
      "outputs": [
        {
          "output_type": "error",
          "ename": "IndentationError",
          "evalue": "unindent does not match any outer indentation level (<tokenize>, line 5)",
          "traceback": [
            "\u001b[0;36m  File \u001b[0;32m\"<tokenize>\"\u001b[0;36m, line \u001b[0;32m5\u001b[0m\n\u001b[0;31m    Returns:\u001b[0m\n\u001b[0m    ^\u001b[0m\n\u001b[0;31mIndentationError\u001b[0m\u001b[0;31m:\u001b[0m unindent does not match any outer indentation level\n"
          ]
        }
      ],
      "source": [
        "import datetime\n",
        "def question_3('10/10/2056'):\n",
        "  Args:\n",
        "        input_date (10): The date to check.\n",
        "    Returns:\n",
        "        bool: True if the date is the second Wednesday, False otherwise.\n",
        "  WEEKNUM(10, [return_type])\n",
        "\n",
        "\n",
        "\n",
        "\n",
        "\n",
        "\n",
        "\n",
        "return(question_3('10/10/2056'))\n",
        "print"
      ]
    },
    {
      "cell_type": "markdown",
      "id": "45dbc319",
      "metadata": {
        "id": "45dbc319"
      },
      "source": [
        "Result:\n",
        "```\n",
        "{\n",
        "    'is_second_wednesday': False,\n",
        "    'week_number': 41,\n",
        "    'third_saturday': datetime.datetime(2056, 10, 21, 0, 0),\n",
        "}\n",
        "```"
      ]
    },
    {
      "cell_type": "markdown",
      "id": "f1035d2e",
      "metadata": {
        "id": "f1035d2e"
      },
      "source": [
        "### Question 4 (4 points):\n",
        "Create a `question_4` function that takes an integer input `number` and calculates the prime numbers between 1 and `number`, and returns a list of prime numbers.\n",
        "\n"
      ]
    },
    {
      "cell_type": "code",
      "execution_count": null,
      "id": "0804f771",
      "metadata": {
        "id": "0804f771"
      },
      "outputs": [],
      "source": [
        "def question_4(number):\n",
        "    # TODO: calculate the prime numbers\n",
        "    return"
      ]
    },
    {
      "cell_type": "code",
      "execution_count": null,
      "id": "d7935c34",
      "metadata": {
        "id": "d7935c34"
      },
      "outputs": [],
      "source": [
        "#question_4(20):\n",
        "def question_4(number):\n",
        "  primes = []\n",
        "  for num in range(1, n + 1):  # Start from 2, as 1 is not prime\n",
        "        is_prime = True\n",
        "        # Check for divisibility from 2 up to the square root of num\n",
        "        # Optimizing the loop to go up to int(num**0.5) + 1 makes it more efficient\n",
        "        for i in range(1, int(num**0.5) + 1):\n",
        "            if num % i == 0:\n",
        "                is_prime = False\n",
        "\n",
        "        if is_prime:\n",
        "            primes.append(num)\n",
        "  return primes\n",
        "\n",
        "\n"
      ]
    },
    {
      "cell_type": "code",
      "source": [
        "number = 20\n",
        "print(primes)"
      ],
      "metadata": {
        "colab": {
          "base_uri": "https://localhost:8080/",
          "height": 159
        },
        "id": "m4xA95H10QH4",
        "outputId": "f65bf60b-882e-487a-c3eb-7a99ffe8e0a7"
      },
      "id": "m4xA95H10QH4",
      "execution_count": null,
      "outputs": [
        {
          "output_type": "error",
          "ename": "NameError",
          "evalue": "name 'primes' is not defined",
          "traceback": [
            "\u001b[0;31m---------------------------------------------------------------------------\u001b[0m",
            "\u001b[0;31mNameError\u001b[0m                                 Traceback (most recent call last)",
            "\u001b[0;32m/tmp/ipython-input-1117487857.py\u001b[0m in \u001b[0;36m<cell line: 0>\u001b[0;34m()\u001b[0m\n\u001b[1;32m      1\u001b[0m \u001b[0mnumber\u001b[0m \u001b[0;34m=\u001b[0m \u001b[0;36m20\u001b[0m\u001b[0;34m\u001b[0m\u001b[0;34m\u001b[0m\u001b[0m\n\u001b[0;32m----> 2\u001b[0;31m \u001b[0mprint\u001b[0m\u001b[0;34m(\u001b[0m\u001b[0mprimes\u001b[0m\u001b[0;34m)\u001b[0m\u001b[0;34m\u001b[0m\u001b[0;34m\u001b[0m\u001b[0m\n\u001b[0m",
            "\u001b[0;31mNameError\u001b[0m: name 'primes' is not defined"
          ]
        }
      ]
    },
    {
      "cell_type": "markdown",
      "id": "8a141579",
      "metadata": {
        "id": "8a141579"
      },
      "source": [
        "Result: `[2, 3, 5, 7, 11, 13, 17, 19]`"
      ]
    },
    {
      "cell_type": "markdown",
      "id": "4f20b44c",
      "metadata": {
        "id": "4f20b44c"
      },
      "source": [
        "### Question 5 (8 points):\n",
        "Implement a `Question_5` class to manage basic medical records.\n",
        "The class should store a patient's name, birthdate, appointment date, allergies, medications, and age.\n",
        "\n",
        "The constructor should accept three string parameters:\n",
        "- `name`\n",
        "- `birthdate` (format: DD-MM-YYYY)\n",
        "- `appointment_date` (format: DD-MM-YYYY HH:MM)\n",
        "\n",
        "The class should also include methods to update and retrieve this information:\n",
        "1. add_allergy -> Accept a string and save it to the allergies list\n",
        "2. is_medication_safe -> Check if medication is safe: Return True if the medication is not listed in allergies\n",
        "3. add_medication -> If the medication is safe, add it to the medications list\n",
        "4. get_age -> Calculate the patient's age from their birthdate and update the corresponding parameter in the class.\n",
        "5. reschedule -> Change appointment_date\n",
        "6. get_summary -> Return a dictionary containing the patient's information, including:\n",
        "    - `name`: str\n",
        "    - `birthdate`: datetime.datetime\n",
        "    - `age`: int\n",
        "    - `allergies`: list\n",
        "    - `medications`: list\n",
        "    - `appointment_date`: datetime.datetime"
      ]
    },
    {
      "cell_type": "code",
      "execution_count": null,
      "id": "343f6968",
      "metadata": {
        "id": "343f6968"
      },
      "outputs": [],
      "source": [
        "import datetime\n",
        "\n",
        "class Question_5():\n",
        "  def __init__(self, name, birthdate, appointment_date):\n",
        "    # TODO:\n",
        "    self.name = name\n",
        "    self.birthdate = datetime.datetime.strptime(birthdate, \"%d-%m-%Y\")\n",
        "    self.appointment_date = datetime.datetime.strptime(appointment_date, \"%d-%m-%Y %H:%M\")\n",
        "    self.name = {dept: [] for dept in name}\n",
        "    self.birthdate = {dept: [] for dept in birthdate}\n",
        "    self.appointment_date= {dept: [] for dept in appointment_date }\n",
        "\n",
        "\n",
        "  def add_allergy(self,allergy):\n",
        "    # TODO: add allergy to list of allergies\n",
        "    if add_allergy not in self.allergy:\n",
        "      self.add_allergy.append(allergy)\n",
        "    self.allergy= {dept: [] for dept in list_allergy}\n",
        "\n",
        "  def add_medication(self,medication):\n",
        "    # TODO: check if medication safe add medication to list of medications\n",
        "    if self.is_medication_safe(medication):\n",
        "       self.medications.append(medication)\n",
        "    self.allergy= {dept: [] for dept in list_allergy}\n",
        "  def is_medication_safe(self,medication):\n",
        "    return # TODO\n",
        "    if medication in self.allergies:\n",
        "      return False\n",
        "    else:\n",
        "      return True\n",
        "\n",
        "  def get_age(self):\n",
        "    # TODO: calculate age from birthdate and update age\n",
        "    today = datetime.date.today()\n",
        "    age = today.year - self.birthdate.year - ((today.month, today.day) < (self.birthdate.month, self.birthdate.day))\n",
        "    self.age = age\n",
        "    return self.age\n",
        "\n",
        "\n",
        "  def reschedule(self, new_date):\n",
        "    # TODO: change appointment_date\n",
        "    self.appointment_date = datetime.datetime.strptime(new_date, \"%d-%m-%Y %H:%M\")\n",
        "    return self.appointment_date\n",
        "\n",
        "  def get_summary(self):\n",
        "    # TODO: create summary dictionary and return\n",
        "    summary = {}\n",
        "    return summary"
      ]
    },
    {
      "cell_type": "code",
      "execution_count": null,
      "id": "9dca8e6f",
      "metadata": {
        "id": "9dca8e6f",
        "colab": {
          "base_uri": "https://localhost:8080/",
          "height": 332
        },
        "outputId": "3e3d1504-b8cb-49d6-f265-2cf800369486"
      },
      "outputs": [
        {
          "output_type": "error",
          "ename": "NameError",
          "evalue": "name 'add_allergy' is not defined",
          "traceback": [
            "\u001b[0;31m---------------------------------------------------------------------------\u001b[0m",
            "\u001b[0;31mNameError\u001b[0m                                 Traceback (most recent call last)",
            "\u001b[0;32m/tmp/ipython-input-2720486714.py\u001b[0m in \u001b[0;36m<cell line: 0>\u001b[0;34m()\u001b[0m\n\u001b[1;32m      1\u001b[0m \u001b[0mpatient\u001b[0m \u001b[0;34m=\u001b[0m \u001b[0mQuestion_5\u001b[0m\u001b[0;34m(\u001b[0m\u001b[0;34m'John Doe'\u001b[0m\u001b[0;34m,\u001b[0m\u001b[0;34m'11-05-2003'\u001b[0m\u001b[0;34m,\u001b[0m\u001b[0;34m'01-10-2025 10:30'\u001b[0m\u001b[0;34m)\u001b[0m\u001b[0;34m\u001b[0m\u001b[0;34m\u001b[0m\u001b[0m\n\u001b[1;32m      2\u001b[0m \u001b[0;34m\u001b[0m\u001b[0m\n\u001b[0;32m----> 3\u001b[0;31m \u001b[0mpatient\u001b[0m\u001b[0;34m.\u001b[0m\u001b[0madd_allergy\u001b[0m\u001b[0;34m(\u001b[0m\u001b[0;34m\"Penicillin\"\u001b[0m\u001b[0;34m)\u001b[0m\u001b[0;34m\u001b[0m\u001b[0;34m\u001b[0m\u001b[0m\n\u001b[0m\u001b[1;32m      4\u001b[0m \u001b[0mpatient\u001b[0m\u001b[0;34m.\u001b[0m\u001b[0madd_allergy\u001b[0m\u001b[0;34m(\u001b[0m\u001b[0;34m\"Sulfa\"\u001b[0m\u001b[0;34m)\u001b[0m\u001b[0;34m\u001b[0m\u001b[0;34m\u001b[0m\u001b[0m\n\u001b[1;32m      5\u001b[0m \u001b[0mpatient\u001b[0m\u001b[0;34m.\u001b[0m\u001b[0madd_allergy\u001b[0m\u001b[0;34m(\u001b[0m\u001b[0;34m\"Aspirin\"\u001b[0m\u001b[0;34m)\u001b[0m\u001b[0;34m\u001b[0m\u001b[0;34m\u001b[0m\u001b[0m\n",
            "\u001b[0;32m/tmp/ipython-input-1744625693.py\u001b[0m in \u001b[0;36madd_allergy\u001b[0;34m(self, allergy)\u001b[0m\n\u001b[1;32m     14\u001b[0m   \u001b[0;32mdef\u001b[0m \u001b[0madd_allergy\u001b[0m\u001b[0;34m(\u001b[0m\u001b[0mself\u001b[0m\u001b[0;34m,\u001b[0m\u001b[0mallergy\u001b[0m\u001b[0;34m)\u001b[0m\u001b[0;34m:\u001b[0m\u001b[0;34m\u001b[0m\u001b[0;34m\u001b[0m\u001b[0m\n\u001b[1;32m     15\u001b[0m     \u001b[0;31m# TODO: add allergy to list of allergies\u001b[0m\u001b[0;34m\u001b[0m\u001b[0;34m\u001b[0m\u001b[0m\n\u001b[0;32m---> 16\u001b[0;31m     \u001b[0;32mif\u001b[0m \u001b[0madd_allergy\u001b[0m \u001b[0;32mnot\u001b[0m \u001b[0;32min\u001b[0m \u001b[0mself\u001b[0m\u001b[0;34m.\u001b[0m\u001b[0mallergy\u001b[0m\u001b[0;34m:\u001b[0m\u001b[0;34m\u001b[0m\u001b[0;34m\u001b[0m\u001b[0m\n\u001b[0m\u001b[1;32m     17\u001b[0m       \u001b[0mself\u001b[0m\u001b[0;34m.\u001b[0m\u001b[0madd_allergy\u001b[0m\u001b[0;34m.\u001b[0m\u001b[0mappend\u001b[0m\u001b[0;34m(\u001b[0m\u001b[0mallergy\u001b[0m\u001b[0;34m)\u001b[0m\u001b[0;34m\u001b[0m\u001b[0;34m\u001b[0m\u001b[0m\n\u001b[1;32m     18\u001b[0m     \u001b[0mself\u001b[0m\u001b[0;34m.\u001b[0m\u001b[0mallergy\u001b[0m\u001b[0;34m=\u001b[0m \u001b[0;34m{\u001b[0m\u001b[0mdept\u001b[0m\u001b[0;34m:\u001b[0m \u001b[0;34m[\u001b[0m\u001b[0;34m]\u001b[0m \u001b[0;32mfor\u001b[0m \u001b[0mdept\u001b[0m \u001b[0;32min\u001b[0m \u001b[0mallergy\u001b[0m\u001b[0;34m}\u001b[0m\u001b[0;34m\u001b[0m\u001b[0;34m\u001b[0m\u001b[0m\n",
            "\u001b[0;31mNameError\u001b[0m: name 'add_allergy' is not defined"
          ]
        }
      ],
      "source": [
        "patient = Question_5('John Doe','11-05-2003','01-10-2025 10:30')\n",
        "\n",
        "patient.add_allergy(\"Penicillin\")\n",
        "patient.add_allergy(\"Sulfa\")\n",
        "patient.add_allergy(\"Aspirin\")\n",
        "\n",
        "patient.add_medication(\"Amoxicillin\")\n",
        "patient.add_medication(\"Ibuprofen\")\n",
        "patient.add_medication(\"Paracetamol\")\n",
        "patient.add_medication(\"Sulfa\")\n",
        "\n",
        "patient.reschedule('08-10-2025 08:30')\n",
        "\n",
        "patient.get_summary()"
      ]
    },
    {
      "cell_type": "markdown",
      "id": "2419f435",
      "metadata": {
        "id": "2419f435"
      },
      "source": [
        "Result:\n",
        "```\n",
        "{'name': 'John Doe',\n",
        " 'birthdate': datetime.datetime(2003, 5, 11, 0, 0),\n",
        " 'age': 22,\n",
        " 'allergies': ['Penicillin', 'Sulfa', 'Aspirin'],\n",
        " 'medication': ['Amoxicillin', 'Ibuprofen', 'Paracetamol'],\n",
        " 'appointment_date': datetime.datetime(2025, 10, 8, 8, 30)}\n",
        "```"
      ]
    },
    {
      "cell_type": "code",
      "execution_count": null,
      "id": "e3ef8218",
      "metadata": {
        "id": "e3ef8218"
      },
      "outputs": [],
      "source": [
        "patient = Question_5('William Wilson','20-12-2001','15-10-2025 15:00')\n",
        "\n",
        "patient.add_allergy(\"Metformin\")\n",
        "patient.add_allergy(\"Loratadine\")\n",
        "\n",
        "patient.add_medication(\"Paracetamol\")\n",
        "patient.add_medication(\"Cetirizine\")\n",
        "patient.add_medication(\"Loratadine\")\n",
        "\n",
        "patient.reschedule('22-10-2025 12:30')\n",
        "\n",
        "patient.get_summary()"
      ]
    },
    {
      "cell_type": "markdown",
      "id": "8f52e033",
      "metadata": {
        "id": "8f52e033"
      },
      "source": [
        "Result:\n",
        "```\n",
        "{'name': 'William Wilson',\n",
        " 'birthdate': datetime.datetime(2001, 12, 20, 0, 0),\n",
        " 'age': 23,\n",
        " 'allergies': ['Metformin', 'Loratadine'],\n",
        " 'medication': ['Paracetamol', 'Cetirizine'],\n",
        " 'appointment_date': datetime.datetime(2025, 10, 22, 12, 30)}\n",
        "```"
      ]
    },
    {
      "cell_type": "markdown",
      "id": "5f8b1dcb",
      "metadata": {
        "id": "5f8b1dcb"
      },
      "source": [
        "### Question 6 (40 points):\n",
        "\n",
        "Given the dictionary below, use the ``Pandas`` module to create a DataFrame.\n",
        "\n",
        "```\n",
        "data = {\n",
        "    'Patient_ID': [101, 102, 103, 104, 105, 106, 107, 108, 109, 110, 111, 112, 113, 114, 115],\n",
        "    'Name': ['Alice Smith', 'Bob Lee', 'Charlie Kim', 'Dana Chai', 'Ethan Wong',\n",
        "             'Fah Sai', 'George Tan', 'Hana Yim', 'Ivan Cruz', 'Jariya Boon',\n",
        "             'Kanya Lek', 'Liam Chen', 'Mali Phan', 'Niran Jai', 'Orawan Dee'],\n",
        "    'Age': [29, 45, 37, 52, 33, 26, 60, 41, 38, 50, 48, 55, 30, 62, 44],\n",
        "    'Gender': ['Female', 'Male', 'Male', 'Female', 'Male',\n",
        "               'Female', 'Male', 'Female', 'Male', 'Female',\n",
        "               'Female', 'Male', 'Female', 'Male', 'Female'],\n",
        "    'Diagnosis': ['Hypertension', 'Diabetes', 'Asthma', 'Hypertension', 'Diabetes',\n",
        "                  'Asthma', 'Hypertension', 'Diabetes', 'Asthma', 'Hypertension',\n",
        "                  'Diabetes', 'Asthma', 'Hypertension', 'Diabetes', 'Asthma'],\n",
        "    'Treatment': ['Medication A', 'Insulin', 'Inhaler', 'Medication B', 'Insulin',\n",
        "                  'Inhaler', 'Medication C', 'Insulin', 'Inhaler', 'Medication D',\n",
        "                  'Insulin', 'Inhaler', 'Medication E', 'Insulin', 'Inhaler'],\n",
        "}\n",
        "```\n",
        "Tasks:\n",
        "1. Create a function named `question_6_1` that takes a dictionary, appends it to the DataFrame, returns the updated DataFrame, ***and applies it to other tasks*** (6 points)\n",
        "2. Create a function named `question_6_2` that returns the names and ages of patients older than 50. (6 points)\n",
        "3. Create a function named `question_6_3` that returns a new DataFrame containing only female patients diagnosed with diabetes.(8 points)\n",
        "4. Create a function named `question_6_4` that visualizes a pie chart showing the gender distribution of all patients. (10 points)\n",
        "5. Create a function named `question_6_5` that visualizes a bar chart showing the average age by gender and diagnosis. (10 points)"
      ]
    },
    {
      "cell_type": "code",
      "execution_count": null,
      "id": "dda5075d",
      "metadata": {
        "id": "dda5075d",
        "colab": {
          "base_uri": "https://localhost:8080/"
        },
        "outputId": "e304aee9-fdfc-4b71-bbe4-163b726fe03b"
      },
      "outputs": [
        {
          "output_type": "stream",
          "name": "stdout",
          "text": [
            "Requirement already satisfied: pandas in /usr/local/lib/python3.12/dist-packages (2.2.2)\n",
            "Requirement already satisfied: numpy>=1.26.0 in /usr/local/lib/python3.12/dist-packages (from pandas) (2.0.2)\n",
            "Requirement already satisfied: python-dateutil>=2.8.2 in /usr/local/lib/python3.12/dist-packages (from pandas) (2.9.0.post0)\n",
            "Requirement already satisfied: pytz>=2020.1 in /usr/local/lib/python3.12/dist-packages (from pandas) (2025.2)\n",
            "Requirement already satisfied: tzdata>=2022.7 in /usr/local/lib/python3.12/dist-packages (from pandas) (2025.2)\n",
            "Requirement already satisfied: six>=1.5 in /usr/local/lib/python3.12/dist-packages (from python-dateutil>=2.8.2->pandas) (1.17.0)\n",
            "Requirement already satisfied: matplotlib in /usr/local/lib/python3.12/dist-packages (3.10.0)\n",
            "Requirement already satisfied: contourpy>=1.0.1 in /usr/local/lib/python3.12/dist-packages (from matplotlib) (1.3.3)\n",
            "Requirement already satisfied: cycler>=0.10 in /usr/local/lib/python3.12/dist-packages (from matplotlib) (0.12.1)\n",
            "Requirement already satisfied: fonttools>=4.22.0 in /usr/local/lib/python3.12/dist-packages (from matplotlib) (4.60.0)\n",
            "Requirement already satisfied: kiwisolver>=1.3.1 in /usr/local/lib/python3.12/dist-packages (from matplotlib) (1.4.9)\n",
            "Requirement already satisfied: numpy>=1.23 in /usr/local/lib/python3.12/dist-packages (from matplotlib) (2.0.2)\n",
            "Requirement already satisfied: packaging>=20.0 in /usr/local/lib/python3.12/dist-packages (from matplotlib) (25.0)\n",
            "Requirement already satisfied: pillow>=8 in /usr/local/lib/python3.12/dist-packages (from matplotlib) (11.3.0)\n",
            "Requirement already satisfied: pyparsing>=2.3.1 in /usr/local/lib/python3.12/dist-packages (from matplotlib) (3.2.4)\n",
            "Requirement already satisfied: python-dateutil>=2.7 in /usr/local/lib/python3.12/dist-packages (from matplotlib) (2.9.0.post0)\n",
            "Requirement already satisfied: six>=1.5 in /usr/local/lib/python3.12/dist-packages (from python-dateutil>=2.7->matplotlib) (1.17.0)\n"
          ]
        }
      ],
      "source": [
        "%pip install pandas\n",
        "%pip install matplotlib"
      ]
    },
    {
      "cell_type": "code",
      "execution_count": null,
      "id": "34c046ad",
      "metadata": {
        "id": "34c046ad"
      },
      "outputs": [],
      "source": [
        " data = {\n",
        "    'Patient_ID': [101, 102, 103, 104, 105, 106, 107, 108, 109, 110, 111, 112, 113, 114, 115],\n",
        "    'Name': ['Alice Smith', 'Bob Lee', 'Charlie Kim', 'Dana Chai', 'Ethan Wong',\n",
        "             'Fah Sai', 'George Tan', 'Hana Yim', 'Ivan Cruz', 'Jariya Boon',\n",
        "             'Kanya Lek', 'Liam Chen', 'Mali Phan', 'Niran Jai', 'Orawan Dee'],\n",
        "    'Age': [29, 45, 37, 52, 33, 26, 60, 41, 38, 50, 48, 55, 30, 62, 44],\n",
        "    'Gender': ['Female', 'Male', 'Male', 'Female', 'Male',\n",
        "               'Female', 'Male', 'Female', 'Male', 'Female',\n",
        "               'Female', 'Male', 'Female', 'Male', 'Female'],\n",
        "    'Diagnosis': ['Hypertension', 'Diabetes', 'Asthma', 'Hypertension', 'Diabetes',\n",
        "                  'Asthma', 'Hypertension', 'Diabetes', 'Asthma', 'Hypertension',\n",
        "                  'Diabetes', 'Asthma', 'Hypertension', 'Diabetes', 'Asthma'],\n",
        "    'Treatment': ['Medication A', 'Insulin', 'Inhaler', 'Medication B', 'Insulin',\n",
        "                  'Inhaler', 'Medication C', 'Insulin', 'Inhaler', 'Medication D',\n",
        "                  'Insulin', 'Inhaler', 'Medication E', 'Insulin', 'Inhaler'],\n",
        "}"
      ]
    },
    {
      "cell_type": "code",
      "execution_count": null,
      "id": "465e233d",
      "metadata": {
        "id": "465e233d"
      },
      "outputs": [],
      "source": [
        "# TODO: create dataframe"
      ]
    },
    {
      "cell_type": "code",
      "execution_count": null,
      "id": "003ff8dd",
      "metadata": {
        "id": "003ff8dd",
        "colab": {
          "base_uri": "https://localhost:8080/",
          "height": 106
        },
        "outputId": "e96f7eb2-01cb-4e3f-e576-2b39ef435bda"
      },
      "outputs": [
        {
          "output_type": "error",
          "ename": "SyntaxError",
          "evalue": "'return' outside function (ipython-input-2699335179.py, line 4)",
          "traceback": [
            "\u001b[0;36m  File \u001b[0;32m\"/tmp/ipython-input-2699335179.py\"\u001b[0;36m, line \u001b[0;32m4\u001b[0m\n\u001b[0;31m    return (question_6_1)\u001b[0m\n\u001b[0m    ^\u001b[0m\n\u001b[0;31mSyntaxError\u001b[0m\u001b[0;31m:\u001b[0m 'return' outside function\n"
          ]
        }
      ],
      "source": [
        "def question_6_1(df, new_patient_dict):\n",
        "    # TODO: append dict to dataframe\n",
        "    df = df.append(new_patient_dict, ignore_index=True)\n",
        "return ()"
      ]
    },
    {
      "cell_type": "code",
      "execution_count": null,
      "id": "bda00207",
      "metadata": {
        "id": "bda00207"
      },
      "outputs": [],
      "source": [
        "new_patient_dict = {\n",
        "    'Patient_ID': 116,\n",
        "    'Name': 'Ploy Chan',\n",
        "    'Age': 39,\n",
        "    'Gender': 'Female',\n",
        "    'Diagnosis': 'Asthma',\n",
        "    'Treatment': 'Inhaler'\n",
        "}\n",
        "updated_df = question_6_1(df,new_patient_dict)\n",
        "print(updated_df)"
      ]
    },
    {
      "cell_type": "markdown",
      "id": "9606411c",
      "metadata": {
        "id": "9606411c"
      },
      "source": [
        "Result:\n",
        "\n",
        "|       | Patient_ID | Name         | Age | Gender | Diagnosis    | Treatment     |\n",
        "|-------|------------|--------------|-----|--------|--------------|---------------|\n",
        "| 0     | 101        | Alice Smith  | 29  | Female | Hypertension | Medication A  |\n",
        "| 1     | 102        | Bob Lee      | 45  | Male   | Diabetes     | Insulin       |\n",
        "| 2     | 103        | Charlie Kim  | 37  | Male   | Asthma       | Inhaler       |\n",
        "| 3     | 104        | Dana Chai    | 52  | Female | Hypertension | Medication B  |\n",
        "| 4     | 105        | Ethan Wong   | 33  | Male   | Diabetes     | Insulin       |\n",
        "| 5     | 106        | Fah Sai      | 26  | Female | Asthma       | Inhaler       |\n",
        "| 6     | 107        | George Tan   | 60  | Male   | Hypertension | Medication C  |\n",
        "| 7     | 108        | Hana Yim     | 41  | Female | Diabetes     | Insulin       |\n",
        "| 8     | 109        | Ivan Cruz    | 38  | Male   | Asthma       | Inhaler       |\n",
        "| 9     | 110        | Jariya Boon  | 50  | Female | Hypertension | Medication D  |\n",
        "| 10    | 111        | Kanya Lek    | 48  | Female | Diabetes     | Insulin       |\n",
        "| 11    | 112        | Liam Chen    | 55  | Male   | Asthma       | Inhaler       |\n",
        "| 12    | 113        | Mali Phan    | 30  | Female | Hypertension | Medication E  |\n",
        "| 13    | 114        | Niran Jai    | 62  | Male   | Diabetes     | Insulin       |\n",
        "| 14    | 115        | Orawan Dee   | 44  | Female | Asthma       | Inhaler       |\n",
        "| 15    | 116        | Ploy Chan    | 39  | Female | Asthma       | Inhaler       |\n",
        "\n"
      ]
    },
    {
      "cell_type": "code",
      "execution_count": null,
      "id": "3b4f58a0",
      "metadata": {
        "id": "3b4f58a0"
      },
      "outputs": [],
      "source": [
        "def question_6_2(df):\n",
        "    # TODO:\n",
        "\n",
        "    return"
      ]
    },
    {
      "cell_type": "code",
      "execution_count": null,
      "id": "6d382264",
      "metadata": {
        "id": "6d382264"
      },
      "outputs": [],
      "source": [
        "question_6_2(updated_df)"
      ]
    },
    {
      "cell_type": "markdown",
      "id": "66fa3657",
      "metadata": {
        "id": "66fa3657"
      },
      "source": [
        "Result:\n",
        "\n",
        "|  \t | Name        | Age |\n",
        "|----|-------------|-----|\n",
        "| 3  | Dana Chai   | 52  |\n",
        "| 6  | George Tan  | 60  |\n",
        "| 11 | Liam Chen   | 55  |\n",
        "| 13 | Niran Jai   | 62  |\n",
        "\n"
      ]
    },
    {
      "cell_type": "code",
      "execution_count": null,
      "id": "56ac6574",
      "metadata": {
        "id": "56ac6574"
      },
      "outputs": [],
      "source": [
        "def question_6_3(df):\n",
        "    # TODO:\n",
        "    return"
      ]
    },
    {
      "cell_type": "code",
      "execution_count": null,
      "id": "3fc2b5c0",
      "metadata": {
        "id": "3fc2b5c0"
      },
      "outputs": [],
      "source": [
        "question_6_3(updated_df)"
      ]
    },
    {
      "cell_type": "markdown",
      "id": "6fc182e0",
      "metadata": {
        "id": "6fc182e0"
      },
      "source": [
        "Result:\n",
        "\n",
        "|  | Patient_ID | Name      | Age | Gender | Diagnosis | Treatment |\n",
        "|--|------------|-----------|-----|--------|-----------|-----------|\n",
        "|7 | 108        | Hana Yim  | 41  | Female | Diabetes  | Insulin   |\n",
        "|10| 111        | Kanya Lek | 48  | Female | Diabetes  | Insulin   |\n",
        "\n"
      ]
    },
    {
      "cell_type": "code",
      "execution_count": null,
      "id": "6b7135b4",
      "metadata": {
        "id": "6b7135b4"
      },
      "outputs": [],
      "source": [
        "def question_6_4(df):\n",
        "    # TODO:\n",
        "\n",
        "    return"
      ]
    },
    {
      "cell_type": "code",
      "execution_count": null,
      "id": "e050dd22",
      "metadata": {
        "id": "e050dd22"
      },
      "outputs": [],
      "source": [
        "question_6_4(updated_df)"
      ]
    },
    {
      "cell_type": "markdown",
      "id": "8c73419a",
      "metadata": {
        "id": "8c73419a"
      },
      "source": [
        "Result:\n",
        "\n",
        "![output.png](data:image/png;base64,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)"
      ]
    },
    {
      "cell_type": "code",
      "execution_count": null,
      "id": "3b19698f",
      "metadata": {
        "id": "3b19698f"
      },
      "outputs": [],
      "source": [
        "def question_6_5(df):\n",
        "    # TODO:"
      ]
    },
    {
      "cell_type": "code",
      "execution_count": null,
      "id": "0d7fe4d1",
      "metadata": {
        "id": "0d7fe4d1"
      },
      "outputs": [],
      "source": [
        "question_6_5(updated_df)"
      ]
    },
    {
      "cell_type": "markdown",
      "id": "328c01f2",
      "metadata": {
        "id": "328c01f2"
      },
      "source": [
        "Result:\n",
        "\n",
        "![output2.png](data:image/png;base64,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)\n",
        "\n",
        "\n"
      ]
    },
    {
      "cell_type": "markdown",
      "source": [
        "### Question 7 (40 points):\n",
        "\n",
        "Given the list of dict of 30-day daily step count of multiple users\n",
        "\n",
        "```\n",
        "steps_data = [\n",
        "    {\n",
        "        \"name\": \"Sarah\",\n",
        "        \"daily_step_count\": np.array(\n",
        "            [\n",
        "                12607,11522,1520,7260,14251,1199,25944,7276,11671,12480,10946,8688,3766,8352,19882,13815,4359,25708,22014,10696,1637,1548,18179,6102,22217,23074,6680,8023,24212,7951,\n",
        "            ]\n",
        "        ),\n",
        "    },\n",
        "    {\n",
        "        \"name\": \"David\",\n",
        "        \"daily_step_count\": np.array(\n",
        "            [\n",
        "                13641,17679,12161,1448,12535,7806,20889,21880,10462,3844,1103,16794,10981,23687,7695,7468,4684,21065,11194,15142,4039,13086,7508,8858,17385,22482,12197,23328,2451,6715,\n",
        "            ]\n",
        "        ),\n",
        "    },\n",
        "    {\n",
        "        \"name\": \"Chris\",\n",
        "        \"daily_step_count\": np.array(\n",
        "            [\n",
        "                9639,14008,11148,23269,25547,8798,7461,12958,24567,19828,19638,21086,9187,19890,8728,9473,11588,19484,20189,23742,7950,21446,24794,10165,2240,22336,6733,15911,21279,15716,\n",
        "            ]\n",
        "        ),\n",
        "    },\n",
        "]\n",
        "\n",
        "```\n",
        "implement a given class method with the following functionality\n",
        "\n",
        "1. ``question 7_1``\n",
        "  Calculate the following values and return in list of dict of each users\n",
        "    - name of each user as string\n",
        "    - total steps within 30 days as integer\n",
        "    - average step per day in 30-day period as integer (round up to nearest integer)\n",
        "    - maximum step and day of maximum step (day 0 to day 29) as tuple of integers\n",
        "    - minimum step and day of minimum step (day 0 to day 29) as tuple of integers\n",
        "\n",
        "2. ``question 7_2``\n",
        "Given the name of one user from question 1\n",
        "  - plot line graph of 30-day daily step count\n",
        "    - day as horizontal axis with 'Day' label\n",
        "    - daily step count as vertical axis with 'Steps per day' label\n",
        "    - graph title with user's name + '30-day daily step'\n",
        "  - return dict of name and step count use to plot\n",
        "\n",
        "3. ``question 7_3``\n",
        "Find and plot number of days that daily step count is more than 8,000 steps\n",
        "  - plot number of days for each user\n",
        "    - user name as horizontal axis with 'Users' label\n",
        "    - days that step more than 8,000 as vertical axis with 'Days' label\n",
        "    - graph title with 'Day of step > 8000'\n",
        "  - return tuple of horizontal and vertical data list use in plot\n",
        "4. ``question 7_4``\n",
        "Given the name of one user from question 1\n",
        "  - plot histogram of steps frequency distribution\n",
        "    - round up each daily step value to nearest 1,000 step ***hint: see `np.round` with parameter `decimals`***\n",
        "    - step (1,000 step increment) as horizontal axis with 'Steps frequency' label\n",
        "    - days according to step frequency with 'Days' label\n",
        "    - graph title with with user's name + 'Step frequency Distribution'\n",
        "  - return tuple of horizontal and vertical data list use in plot"
      ],
      "metadata": {
        "id": "Ko9Ai4nfcVX0"
      },
      "id": "Ko9Ai4nfcVX0"
    },
    {
      "cell_type": "code",
      "source": [
        "steps_data = [\n",
        "    {\n",
        "        \"name\": \"Sarah\",\n",
        "\n",
        "        \"daily_step_count\": np.array(\n",
        "            [\n",
        "                12607,11522,1520,7260,14251,1199,25944,7276,11671,12480,10946,8688,3766,8352,19882,13815,4359,25708,22014,10696,1637,1548,18179,6102,22217,23074,6680,8023,24212,7951,\n",
        "            ]\n",
        "        ),\n",
        "    },\n",
        "    {\n",
        "        \"name\": \"David\",\n",
        "        \"daily_step_count\": np.array(\n",
        "            [\n",
        "                13641,17679,12161,1448,12535,7806,20889,21880,10462,3844,1103,16794,10981,23687,7695,7468,4684,21065,11194,15142,4039,13086,7508,8858,17385,22482,12197,23328,2451,6715,\n",
        "            ]\n",
        "        ),\n",
        "    },\n",
        "    {\n",
        "        \"name\": \"Chris\",\n",
        "        \"daily_step_count\": np.array(\n",
        "            [\n",
        "                9639,14008,11148,23269,25547,8798,7461,12958,24567,19828,19638,21086,9187,19890,8728,9473,11588,19484,20189,23742,7950,21446,24794,10165,2240,22336,6733,15911,21279,15716,\n",
        "            ]\n",
        "        ),\n",
        "    },\n",
        "]"
      ],
      "metadata": {
        "id": "bTnVIMzzcPyR",
        "colab": {
          "base_uri": "https://localhost:8080/",
          "height": 228
        },
        "outputId": "e612cd91-5323-4882-abc6-38d63824fd05"
      },
      "id": "bTnVIMzzcPyR",
      "execution_count": null,
      "outputs": [
        {
          "output_type": "error",
          "ename": "NameError",
          "evalue": "name 'np' is not defined",
          "traceback": [
            "\u001b[0;31m---------------------------------------------------------------------------\u001b[0m",
            "\u001b[0;31mNameError\u001b[0m                                 Traceback (most recent call last)",
            "\u001b[0;32m/tmp/ipython-input-3670690423.py\u001b[0m in \u001b[0;36m<cell line: 0>\u001b[0;34m()\u001b[0m\n\u001b[1;32m      3\u001b[0m         \u001b[0;34m\"name\"\u001b[0m\u001b[0;34m:\u001b[0m \u001b[0;34m\"Sarah\"\u001b[0m\u001b[0;34m,\u001b[0m\u001b[0;34m\u001b[0m\u001b[0;34m\u001b[0m\u001b[0m\n\u001b[1;32m      4\u001b[0m \u001b[0;34m\u001b[0m\u001b[0m\n\u001b[0;32m----> 5\u001b[0;31m         \"daily_step_count\": np.array(\n\u001b[0m\u001b[1;32m      6\u001b[0m             [\n\u001b[1;32m      7\u001b[0m                 \u001b[0;36m12607\u001b[0m\u001b[0;34m,\u001b[0m\u001b[0;36m11522\u001b[0m\u001b[0;34m,\u001b[0m\u001b[0;36m1520\u001b[0m\u001b[0;34m,\u001b[0m\u001b[0;36m7260\u001b[0m\u001b[0;34m,\u001b[0m\u001b[0;36m14251\u001b[0m\u001b[0;34m,\u001b[0m\u001b[0;36m1199\u001b[0m\u001b[0;34m,\u001b[0m\u001b[0;36m25944\u001b[0m\u001b[0;34m,\u001b[0m\u001b[0;36m7276\u001b[0m\u001b[0;34m,\u001b[0m\u001b[0;36m11671\u001b[0m\u001b[0;34m,\u001b[0m\u001b[0;36m12480\u001b[0m\u001b[0;34m,\u001b[0m\u001b[0;36m10946\u001b[0m\u001b[0;34m,\u001b[0m\u001b[0;36m8688\u001b[0m\u001b[0;34m,\u001b[0m\u001b[0;36m3766\u001b[0m\u001b[0;34m,\u001b[0m\u001b[0;36m8352\u001b[0m\u001b[0;34m,\u001b[0m\u001b[0;36m19882\u001b[0m\u001b[0;34m,\u001b[0m\u001b[0;36m13815\u001b[0m\u001b[0;34m,\u001b[0m\u001b[0;36m4359\u001b[0m\u001b[0;34m,\u001b[0m\u001b[0;36m25708\u001b[0m\u001b[0;34m,\u001b[0m\u001b[0;36m22014\u001b[0m\u001b[0;34m,\u001b[0m\u001b[0;36m10696\u001b[0m\u001b[0;34m,\u001b[0m\u001b[0;36m1637\u001b[0m\u001b[0;34m,\u001b[0m\u001b[0;36m1548\u001b[0m\u001b[0;34m,\u001b[0m\u001b[0;36m18179\u001b[0m\u001b[0;34m,\u001b[0m\u001b[0;36m6102\u001b[0m\u001b[0;34m,\u001b[0m\u001b[0;36m22217\u001b[0m\u001b[0;34m,\u001b[0m\u001b[0;36m23074\u001b[0m\u001b[0;34m,\u001b[0m\u001b[0;36m6680\u001b[0m\u001b[0;34m,\u001b[0m\u001b[0;36m8023\u001b[0m\u001b[0;34m,\u001b[0m\u001b[0;36m24212\u001b[0m\u001b[0;34m,\u001b[0m\u001b[0;36m7951\u001b[0m\u001b[0;34m,\u001b[0m\u001b[0;34m\u001b[0m\u001b[0;34m\u001b[0m\u001b[0m\n",
            "\u001b[0;31mNameError\u001b[0m: name 'np' is not defined"
          ]
        }
      ]
    },
    {
      "cell_type": "code",
      "source": [
        "import numpy as np\n",
        "import matplotlib.pyplot as plt\n",
        "\n",
        "class Question_7():\n",
        "\n",
        "  def __init__(self, steps_data: list[dict]):\n",
        "    # TODO implement class\n",
        "    steps_data = [\n",
        "    {\n",
        "        \"name\": \"Sarah\",\n",
        "        \"daily_step_count\": np.array(\n",
        "            [\n",
        "                12607,11522,1520,7260,14251,1199,25944,7276,11671,12480,10946,8688,3766,8352,19882,13815,4359,25708,22014,10696,1637,1548,18179,6102,22217,23074,6680,8023,24212,7951,\n",
        "            ]\n",
        "        ),\n",
        "    },\n",
        "    {\n",
        "        \"name\": \"David\",\n",
        "        \"daily_step_count\": np.array(\n",
        "            [\n",
        "                13641,17679,12161,1448,12535,7806,20889,21880,10462,3844,1103,16794,10981,23687,7695,7468,4684,21065,11194,15142,4039,13086,7508,8858,17385,22482,12197,23328,2451,6715,\n",
        "            ]\n",
        "        ),\n",
        "    },\n",
        "    {\n",
        "        \"name\": \"Chris\",\n",
        "        \"daily_step_count\": np.array(\n",
        "            [\n",
        "                9639,14008,11148,23269,25547,8798,7461,12958,24567,19828,19638,21086,9187,19890,8728,9473,11588,19484,20189,23742,7950,21446,24794,10165,2240,22336,6733,15911,21279,15716,\n",
        "            ]\n",
        "        ),\n",
        "    },\n",
        "]\n",
        "\n",
        "\n",
        "    pass\n",
        "\n",
        "  def question_7_1(self):\n",
        "    # TODO implement class method for question 7_1\n",
        "    name =\n",
        "    return\n",
        "\n",
        "\n",
        "  def question_7_2(self):\n",
        "    # TODO implement class method for question 7_2\n",
        "\n",
        "\n",
        "\n",
        "plt.bar(day_in_week, hours_over_90)\n",
        "plt.title(\"Chris 30-days daily step\")\n",
        "plt.xlabel(\"days\")\n",
        "plt.ylabel(\"step per day\")\n",
        "plt.show()\n",
        "return\n",
        "   return\n",
        "\n",
        "  def question_7_3(self):\n",
        "    # TODO implement class method for question 7_3\n",
        "    return\n",
        "\n",
        "  def question_7_4(self):\n",
        "    # TODO implement class method for question 7_4\n",
        "    return\n"
      ],
      "metadata": {
        "id": "k7XPQfSZdSdL"
      },
      "id": "k7XPQfSZdSdL",
      "execution_count": null,
      "outputs": []
    },
    {
      "cell_type": "markdown",
      "source": [
        "Example Output"
      ],
      "metadata": {
        "id": "AhXSj4rC53a8"
      },
      "id": "AhXSj4rC53a8"
    },
    {
      "cell_type": "code",
      "source": [
        "n = Question_7(steps_data)\n"
      ],
      "metadata": {
        "id": "WJcyL6lN6AeM",
        "colab": {
          "base_uri": "https://localhost:8080/",
          "height": 141
        },
        "outputId": "c1c62a63-66f2-44b6-a5ee-2297aa85ed53"
      },
      "id": "WJcyL6lN6AeM",
      "execution_count": null,
      "outputs": [
        {
          "output_type": "error",
          "ename": "NameError",
          "evalue": "name 'Question_7' is not defined",
          "traceback": [
            "\u001b[0;31m---------------------------------------------------------------------------\u001b[0m",
            "\u001b[0;31mNameError\u001b[0m                                 Traceback (most recent call last)",
            "\u001b[0;32m/tmp/ipython-input-2524720438.py\u001b[0m in \u001b[0;36m<cell line: 0>\u001b[0;34m()\u001b[0m\n\u001b[0;32m----> 1\u001b[0;31m \u001b[0mn\u001b[0m \u001b[0;34m=\u001b[0m \u001b[0mQuestion_7\u001b[0m\u001b[0;34m(\u001b[0m\u001b[0msteps_data\u001b[0m\u001b[0;34m)\u001b[0m\u001b[0;34m\u001b[0m\u001b[0;34m\u001b[0m\u001b[0m\n\u001b[0m",
            "\u001b[0;31mNameError\u001b[0m: name 'Question_7' is not defined"
          ]
        }
      ]
    },
    {
      "cell_type": "markdown",
      "source": [
        "``question 7_1``"
      ],
      "metadata": {
        "id": "lSTdWPk_6JMW"
      },
      "id": "lSTdWPk_6JMW"
    },
    {
      "cell_type": "code",
      "source": [
        "print(n.question_7_1())"
      ],
      "metadata": {
        "id": "6Y3Ef2hI6MVu",
        "colab": {
          "base_uri": "https://localhost:8080/",
          "height": 141
        },
        "outputId": "8407a011-8d0c-4668-939d-260b4bc31051"
      },
      "id": "6Y3Ef2hI6MVu",
      "execution_count": null,
      "outputs": [
        {
          "output_type": "error",
          "ename": "NameError",
          "evalue": "name 'n' is not defined",
          "traceback": [
            "\u001b[0;31m---------------------------------------------------------------------------\u001b[0m",
            "\u001b[0;31mNameError\u001b[0m                                 Traceback (most recent call last)",
            "\u001b[0;32m/tmp/ipython-input-359126481.py\u001b[0m in \u001b[0;36m<cell line: 0>\u001b[0;34m()\u001b[0m\n\u001b[0;32m----> 1\u001b[0;31m \u001b[0mprint\u001b[0m\u001b[0;34m(\u001b[0m\u001b[0mn\u001b[0m\u001b[0;34m.\u001b[0m\u001b[0mquestion_7_1\u001b[0m\u001b[0;34m(\u001b[0m\u001b[0;34m)\u001b[0m\u001b[0;34m)\u001b[0m\u001b[0;34m\u001b[0m\u001b[0;34m\u001b[0m\u001b[0m\n\u001b[0m",
            "\u001b[0;31mNameError\u001b[0m: name 'n' is not defined"
          ]
        }
      ]
    },
    {
      "cell_type": "markdown",
      "source": [
        "Result:\n",
        "```\n",
        "[\n",
        "  {\n",
        "    'name': 'Sarah',\n",
        "    'total_step': np.int64(353579),\n",
        "    'average_step': np.int64(11786),\n",
        "    'maximum_step': np.int64(25944),\n",
        "    'minimum_step': np.int64(1199)\n",
        "  },\n",
        "  {\n",
        "    'name': 'David',\n",
        "    'total_step': np.int64(360207),\n",
        "    'average_step': np.int64(12007),\n",
        "    'maximum_step': np.int64(23687),\n",
        "    'minimum_step': np.int64(1103)\n",
        "  },\n",
        "  {\n",
        "    'name': 'Chris',\n",
        "    'total_step': np.int64(468798),\n",
        "    'average_step': np.int64(15627),\n",
        "    'maximum_step': np.int64(25547),\n",
        "    'minimum_step': np.int64(2240)\n",
        "  }\n",
        "]\n",
        "```"
      ],
      "metadata": {
        "id": "7ZO6y_256RKJ"
      },
      "id": "7ZO6y_256RKJ"
    },
    {
      "cell_type": "markdown",
      "source": [
        "``question 7_2``"
      ],
      "metadata": {
        "id": "LzeWh1jP6ojc"
      },
      "id": "LzeWh1jP6ojc"
    },
    {
      "cell_type": "code",
      "source": [
        "print(n.question_7_2('Chris'))"
      ],
      "metadata": {
        "id": "5a4ifz8a6twe",
        "colab": {
          "base_uri": "https://localhost:8080/",
          "height": 141
        },
        "outputId": "604128a7-72ee-4844-96a4-e639d5e76e5a"
      },
      "id": "5a4ifz8a6twe",
      "execution_count": null,
      "outputs": [
        {
          "output_type": "error",
          "ename": "NameError",
          "evalue": "name 'n' is not defined",
          "traceback": [
            "\u001b[0;31m---------------------------------------------------------------------------\u001b[0m",
            "\u001b[0;31mNameError\u001b[0m                                 Traceback (most recent call last)",
            "\u001b[0;32m/tmp/ipython-input-1941403290.py\u001b[0m in \u001b[0;36m<cell line: 0>\u001b[0;34m()\u001b[0m\n\u001b[0;32m----> 1\u001b[0;31m \u001b[0mprint\u001b[0m\u001b[0;34m(\u001b[0m\u001b[0mn\u001b[0m\u001b[0;34m.\u001b[0m\u001b[0mquestion_7_2\u001b[0m\u001b[0;34m(\u001b[0m\u001b[0;34m'Chris'\u001b[0m\u001b[0;34m)\u001b[0m\u001b[0;34m)\u001b[0m\u001b[0;34m\u001b[0m\u001b[0;34m\u001b[0m\u001b[0m\n\u001b[0m",
            "\u001b[0;31mNameError\u001b[0m: name 'n' is not defined"
          ]
        }
      ]
    },
    {
      "cell_type": "markdown",
      "source": [
        "Result:\n",
        "\n",
        "![image.png](data:image/png;base64,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)\n",
        "\n",
        "```\n",
        "{\n",
        "  'name': 'Chris',\n",
        "  'daily_step_count': array([ 9639, 14008, 11148, 23269, 25547, 8798, 7461, 12958, 24567, 19828, 19638, 21086, 9187, 19890, 8728, 9473, 11588, 19484, 20189, 23742, 7950, 21446, 24794, 10165, 2240, 22336, 6733, 15911, 21279, 15716])\n",
        "}\n",
        "```"
      ],
      "metadata": {
        "id": "spOsj3s860Qu"
      },
      "id": "spOsj3s860Qu"
    },
    {
      "cell_type": "markdown",
      "source": [
        "``question 7_3``"
      ],
      "metadata": {
        "id": "MMMBdiJe8KuU"
      },
      "id": "MMMBdiJe8KuU"
    },
    {
      "cell_type": "code",
      "source": [
        "print(n.question_7_3())"
      ],
      "metadata": {
        "id": "W61Ojb1I8PpT"
      },
      "id": "W61Ojb1I8PpT",
      "execution_count": null,
      "outputs": []
    },
    {
      "cell_type": "markdown",
      "source": [
        "Result:\n",
        "\n",
        "![image.png](data:image/png;base64,iVBORw0KGgoAAAANSUhEUgAAAjMAAAHFCAIAAACIE+8MAAAAAXNSR0IArs4c6QAAIABJREFUeAHtnQl0FVW2/itA5oQgGJIQQvQpMrYgKs5CK/Mg2mqD3a1BRZRJec9nN3ar0aUMPhWH16hLWtLYoIgEHJBm0CSogMoTUNI0g4xhEBoWBCIGwdTf7vpb6/a+l6pd99ydU7n13fXW69pVu76z9+871Pbe3IBh4gUCIAACIAACfiJg+KkY1AICIAACIAACJiYTNgEIgAAIgIC/CGAy+csPVAMCIAACIIDJhD0AAiAAAiDgLwKYTP7yA9WAAAiAAAhgMmEPgAAIgAAI+IsAJpO//EA1IAACIAACmEzYAyAAAiAAAv4igMnkLz9QDQiAAAiAACYT9oDfCZSUlBg/vZKTk3Nycnr27Dlp0qT9+/frKn379u0DBgw444wzDMO47777+GXs2bOnuLh47dq1/FvqM3Pfvn1jxow5++yzU1JS2rRpc8cdd+zcuTO0gP379xcVFbVo0SI1NfXSSy/94IMPQq+aprls2bJLL700NTW1RYsWRUVFxKPvv//+0UcfLSwsTEpKateu3QsvvEBuRwgCFgFMJuwEvxOwJlNJScmqVas++uijefPmjR8/Pisrq3nz5suWLdNS/fXXX9+iRYsFCxasWrVqx44d/BpWr15tGEZJSQn/lnrLrK2tbdu27Zlnnjlt2rTy8vKXX345JycnPz//6NGjVg21tbWdO3du3br1rFmzli5dOmTIkCZNmlRUVNgVVlRUNGnSZMiQIUuXLp01a1Z+fn7nzp1ra2vthBEjRiQnJ//P//xPeXn5hAkTEhISJk6caF/FAQjYBDCZbBQ48CkBazKtXr06tL6dO3cWFBRkZmZ+8803oefr5/jcc8/t379/FGvVw2Q6dOjQP/7xjyhqW7ZsmWEYf/rTn+x7X3/9dcMw5s+fb52ZNm2aYRgrV660wpMnT3bs2LF79+52/sUXX9yxY8eTJ09aZ1asWGEYxosvvmiFlZWVCQkJkyZNsvPvuuuu1NTUQ4cO2WdwAAIWAUwm7AS/E4g4mUzTnDt3rmEYjz32mNXA6tWrhw4dWlhYmJKSUlhYOGzYMPvdzPbt2xs3bhz6TDRNc/ny5YZhzJ07N2L/O3fu/PWvf52dnZ2UlNS+ffunn376hx9+ME2zvLz8p08W////bt++PVxh7ty53bt3b9q0aWpq6tlnn3377bdHvLe4uNgufvDgwWeccUZycnLXrl3ffPNNW9Nqf+nSpcOHDz/jjDPS0tIGDRq0detWO4EclJeXN2nSpF+/fjNnzrTf7pCciGFFRYVhGG+99ZZ9ddGiRYZhLFq0yDrTq1evdu3a2VdN05w0aZJhGLt37zZNc/fu3YZhTJ48OTThvPPO6927t3XmiSeeMAxj3759dsLKlSsNw5g9e7Z9BgcgYBHAZMJO8DuB002mmpqaxo0bX3vttVYDb7311iOPPLJgwYLly5fPmTOnR48e2dnZ9ruHG264oU2bNqdOnbK7vfnmm1u1amX/B7593jTNAwcO5OfnZ2dnv/zyy4sXLx47dqxhGKNGjTJNs7q6etWqVbm5uVdcccWqf71CP62yRFauXJmQkDBs2LBFixaVlZWVlJTceuut1r1WLw899JB1b1VVlWmaZWVlSUlJV1111Ztvvrl48eLhw4eHfuJn3VJQUHDHHXf89a9/feWVV1q2bFlQUHD48OHQmu3j7777bvbs2YMHD05KSkpJSbnppptKS0vDi7Tz7YOTJ09eeOGFnTp1+vzzz48dO/bFF1907dq1W7du33//vZWTm5t788032/mmaS5cuNAwjCVLlpimuXjxYsMw3n///dCEm266KS8vzzozbNiw7Ozs0Ks1NTWGYTz44IOhJ3EMAqaJv9EVu8D3BE43mUzTzMnJ6dChQ3gHp06dqqmpSU9Pf/75562r1nudBQsWWOGePXuaNGliv98iChMmTDAM47PPPrPPjxo1KiEhYdOmTdaZwsLCgQMH2lfJwdNPP20YxpEjR8h50zQjfprXvn37Cy64IHRGDho0KC8vz3qXZrV/ww032GrWp2RPPPGEfSbiweHDh2fMmNGnT58mTZpkZWUNHz58yZIlobM5/K6jR48OHjzYflPYs2fP0I/aEhMT77777tC7rDc9r7/+ummas2fPNgxj1apVoQkjR45MSkqyzvTu3Zu85frxXVdSUtLIkSNDb8ExCGAyYQ80AAIOk6lly5b2ZDp27Nhvf/vbc845p3Hjxvaz9Z577rE77NKlS69evazw4Ycf/vE5G/rJkp1mmmb37t07duwYeuazzz4zDOOll16yTjpPJutzwj59+rz55pvWJ122VPhk2rJli2EYTz/99MmQ14svvmgYxoYNG0zTtNqfN2+eLfLjycLCQvvNYuj5iMf/+Mc/XnrppR49eiQkJLRs2fJ0nwR+//33/fv3LygomD59+kcffTRz5sy2bdt269bNHrGJiYmhPE3TtCbTG2+8YU+mTz/9NLSGkSNHJicnW2d69+7dvn370KvWZCLTjiQgDCYBfJoXTN8bUtenm0zk07zBgwenpaVNnjz5gw8++Pzzz1evXp2dnV1UVGS3+uqrr/74IdvGjRu///773NzcW265xb5EDs455xzy3K+qqjIMw36b4jyZTNN8++23r7nmmuTk5B9/ctOpUyfrXUXE90yffPKJPUfJwUcffWRPpk8++SS0yEsuuaRr166hZxyOt27dOnny5K5duxqGcd5555Evgts3vvTSS4ZhhH7TZOvWrT+W9Oijj1o5+DTPZoUDaQKYTNKEoa9K4HST6c033zQM4/HHHzdN88iRIwkJCfYz1DTN2traxo0bh06m77777swzzxw3bpz1uRN51odWebr3TC+//LKV5jqZrLTa2tqKioq+ffvaX2kLf8+0ceNG62ctq8Ne1vcXon7PtGvXrmeeeebiiy82DOPHL3//13/9V+jUCe3XOr777rsbN25sfYRoX23RosVNN91kheFveiZPnmwYxo+/pGV/A2LKlCn2vaZptmvXzv4GxMSJE8k3IFatWoVvQITiwrFNAJPJRoEDnxKIOJmsb41nZWUdOHDA+nIB+WLYH//4R8MwQieTaZq///3vmzZteuGFFzq/4XjwwQcNw/jiiy9sImPGjOH/nMm+yzpYt26dYRjTpk0zTfOrr74K/SK1ldC2bdsBAwaQu+zQaj/850zWSLbT7IOjR4++8MILV1xxRUJCQvPmze+6666ysjIyb+zk0IPHHnvMMIzQj+M2bdr04w/Mxo8fb6VZnzHaCSdPnuzUqdMll1xii3Tv3r1z5872j7KswWN/BGp9azx0dN1999341rhNDwehBDCZQmng2I8ErEez9Zu2H3/8cWlpqf2btmVlZXbFV199dfPmzadPn75s2bKHHnooLy+vWbNmZDLt3r27SZMm5Ld2bAX7wPpuXm5u7iuvvLJkyZJ77703ISFh9OjRdoLze6aHH3749ttvnzVrVkVFxdtvv/3zn/88MTGxsrLSNM1vv/02NTX1iiuuKC8vX716tfVuo6ysLDk5uU+fPq+//vry5csXLFgwadIk+52K1X5BQcGdd965ePHi6dOnt2zZMj8/P/S7CXZh1nfT09LShg0b9s4779hfqwtNON3xrl27mjVrlp+f/9JLL5WVlf3pT3/6j//4j/T09I0bN1q31NbWdurUqaCgYPbs2cuWLbvhhhvIb9paX1i/4YYbli1bNnv27IKCgoi/afvUU09VVFT8/ve/x2/ans4LnMdkwh7wOwHr0Wz9DCYpKally5Y9evSYNGmS9W7Jrn737t033njjGWeckZmZ2a9fv8rKysLCQjKZTNPs2bNn8+bNjx8/bt8Y8WDnzp2/+tWvWrRokZiY2K5du6eeeir0bYfzZFq4cGH//v3z8/OtagcMGPDxxx/bq7zxxhvt27dPTEw0DMP+faYvv/zyl7/8ZcuWLRMTE3Nzc6+55hr7k0Or/aVLl956663NmjVLTU0dMGDAli1bbEFyUF1dXVNTQ04ywy1bttx6661nnXVWcnJymzZthg4d+re//S303m+++ea2225r3rx5SkrKpZdeGv53cCxduvTSSy9NSUlp3rz5bbfdFv63ExUXF7dp0yYpKem8887D304UyhbHoQQwmUJp4DjOCezfvz8lJeWBBx5oQH1ak8n5R0QNqB2UCgIcAphMHErIafAEqqqqli9fPmjQoLS0NPJNbp/3hsnkc4NQngQBTCYJqtD0HYHi4uKEhISzzz7b/mVb35V4moIwmU4DBqfjmQAmUzy7i95AAARAoCESwGRqiK6hZhAAARCIZwKYTPHsLnoDARAAgYZIAJOpIbqGmkEABEAgngk0mMn0ww8/VFVVHTlypBovEAABEACBhkzgyJEjVVVVob8jSMZsg5lM1l+pSf7KS4QgAAIgAAINlID175ORmWSFDWYyHTlyxDCMqqqqhvwfCqgdBEAABECg2nqnYf8DK+HDqcFMpurqasMwqqurw3vAGRAAARAAgQZEwPV5jsnUgNxEqSAAAiAQDwQwmeLBRfQAAiAAAvFEAJMpntxELyAAAiAQDwQwmeLBRfQAAiAAAvFEAJMpntxELyAAAiAQDwQwmeLBRfQAAiAAAvFEAJMpntxELyAAAiAQDwQwmeLBRfQAAiAAAvFEAJMpntxELyAAAiAQDwQwmeLBRfQAAiAAAvFEAJMpntxELyAAAiAQDwQwmeLBRfQAAiAAAvFEAJMpntxELyAAAiAQDwQwmeLBRfQAAiAAAvFEAJMpntxELyAAAiAQDwQwmeLBRfQAAiAQSqDwdwvxfxoJhHoR3TEmU3TccBcIgIB/CWh8KGPpwt8tVN8ZmEzqDKEAAiDgLwIYD3oJqO8GTCZ1hlAAARDwFwG9z2Wsrr4bMJnUGUIBBEDAXwQwG/QSUN8NmEzqDKEAAiDgLwJ6n8tYXX03YDKpM4QCCICAvwhgNugloL4bMJnUGUIBBEDAXwT0PpexuvpuwGRSZwgFEAABfxHAbNBLQH03aJ5MkyZNuuiiizIyMrKzs4cMGbJx40a7paKiIiPkdckll9iXIh64dhLxLpwEARCIPwJ6n8tYXX1HuT7PDfU1HBT69u1bUlJSWVm5bt26gQMHtmnTpqamxsovKirq16/fvp9ehw4dctAxTdO1E+fbcRUEQCBuCGA26CWgvpFcn+eykym0gQMHDhiGsXz5cutkUVHRkCFDQhOcj107cb4dV0EABOKGgN7nMlZX30iuz/P6m0xbtmwxDGP9+vVWV0VFRVlZWdnZ2W3bth0xYsT+/fvDu62tra3+6VVVVWUYRnV1dXgazoAACASKAGaDXgLqm80vk6murm7w4MFXXnml3dKcOXMWLly4fv36d999t0uXLp06daqtrbWvWgfFxcUhP4r65yEmE0GEEAQCSEDvcxmrq285v0ym0aNHFxYWVlVVRWxp7969iYmJpaWl5CreMxEgCEEABEzTxGzQS0B9E/piMo0dO7Z169bbtm1z6Ofcc8+dMmWKQ4JrJw734hIIgEA8EdD7XMbq6nvJ9Xku+3Omurq6MWPGtGrVavPmzQ7NHDx4MDk5eebMmQ45rp043ItLIAAC8UQAs0EvAfW95Po8l51Mo0aNysrKqqio+OnL4fuOHz9umuaxY8fuv//+lStXbt++vby8/LLLLsvPzz969KhDw66dONyLSyAAAvFEQO9zGaur7yXX57nsZCLfXzAMo6SkxDTN48eP9+nTJzs7OzExsU2bNkVFRbt27XLu1rUT59txFQRAIG4IYDboJaC+kVyf57KTSb0BW8G1EzsTByAAAvFNQO9zGaur7y7X5zkmkzpkKIAACNQrAcwGvQTUzcZkUmcIBRAAAX8R0PtcxurquwGTSZ0hFEAABPxFALNBLwH13YDJpM4QCiAAAv4ioPe5jNXVdwMmkzpDKIAACPiLAGaDXgLquwGTSZ0hFEAABPxFQO9zGaur7wZMJnWGUAABEPAXAcwGvQTUdwMmkzpDKIAACPiLgN7nMlZX3w2YTOoMoQACIOAvApgNegmo7wZMJnWGUAABEPAXAb3PZayuvhswmdQZQgEEQMBfBDAb9BJQ3w2YTOoMoQACIOAvAnqfy1hdfTdgMqkzhAIIgIC/CGA26CWgvhswmdQZQgEEQMBfBPQ+l7G6+m7AZFJnCAUQAAF/EcBs0EtAfTdgMqkzhAIIgIC/COh9LmN19d2AyaTOEAogAAL+IoDZoJeA+m7AZFJnCAUQAAF/EdD7XMbq6rsBk0mdIRRAAAT8RQCzQS8B9d2AyaTOEAogAAL+IqD3uYzV1XcDJpM6QyiAAAj4iwBmg14C6rsBk0mdIRRAAAT8RUDvcxmrq+8GTCZ1hlAAARDwFwHMBr0E1HcDJpM6QyiAAAj4i4De5zJWV98NmEzqDKEAAiDgLwKYDXoJqO8GTCZ1hlAAARDwFwG9z2Wsrr4bMJnUGUIBBEDAXwQwG/QSUN8NmEzqDKEAAiDgLwJ6n8tYXX03YDKpM4QCCICAvwhgNugloL4bMJnUGUIBBEDAXwT0PpexuvpuwGRSZwgFEAABfxHAbNBLQH03YDKpM4QCCICAvwjofS5jdfXdgMmkzhAKIAAC/iKA2aCXgPpuwGRSZwgFEAABfxHQ+1zG6uq7AZNJnSEUQAAE/EUAs0EvAfXdgMmkzhAKIAAC/iKg97mM1dV3AyaTOkMogAAI+IsAZoNeAuq7AZNJnSEUQAAE/EVA73MZq6vvBkwmdYZQAAEQ8BcBzAa9BNR3AyaTOkMogAAI+IuA3ucyVlffDZhM6gyhAAIg4C8CmA16CajvBkwmdYZQAAEQ8BcBvc9lrK6+GzCZ1BlCAQRAwF8EMBv0ElDfDZhM6gyhAAIg4C8Cep/LWF19N2AyqTOEAgiAgL8IYDboJaC+GzCZ1BlCAQRAwF8E9D6Xsbr6bsBkUmcIBRAAAX8RwGzQS0B9N2AyqTOEAgiAgL8I6H0uY3X13YDJpM4QCiAAAv4igNmgl4D6bsBkUmcIBRAAAX8R0PtcxurquwGTSZ0hFEAABPxFALNBLwH13YDJpM4QCiAAAv4ioPe5jNXVdwMmkzpDKIAACPiLAGaDXgLquwGTSZ0hFEAABPxFQO9zGaur7wZMJnWGUAABEPAXAcwGvQTUdwMmkzpDKIAACPiLgN7nMlZX3w2YTOoMoQACIOAvApgNegmo7wbNk2nSpEkXXXRRRkZGdnb2kCFDNm7caLdUV1dXXFycl5eXkpLSo0ePyspK+1LEA9dOIt6FkyAAAvFHQO9zGaur7yjX57mhvoaDQt++fUtKSiorK9etWzdw4MA2bdrU1NRY+VOmTMnMzCwtLV2/fv3QoUPz8vKOHj3qIOXaicO9uAQCIBBPBDAb9BJQ30uuz3PZyRTawIEDBwzDWL58uWmadXV1ubm5U6ZMsRJqa2uzsrJefvnl0Hxy7NoJyUcIAiAQrwT0Ppexuvq+cn2e199k2rJli2EY69evN01z69athmGsWbPG7vC666677bbb7NA6qK2trf7pVVVVZRhGdXU1yUEIAiAQNAKYDXoJqO83v0ymurq6wYMHX3nllVZLK1asMAxjz549dod33XVXnz597NA6KC4uNv79hclEECEEgQAS0PtcxurqW84vk2n06NGFhYVVVVVWS9Zk2rt3r93hiBEj+vbta4fWAd4zESAIQQAETNPEbNBLQH0T+mIyjR07tnXr1tu2bbP7YX6aZ+ebpunaSWgyjkEABOKYgN7nMlZX31quz3PZnzPV1dWNGTOmVatWmzdvDm3G+gbEk08+aZ08ceIEvgERygfHIAACDgQwG/QScLCGeUnzZBo1alRWVlZFRcW+n17Hjx+3Sp8yZUpWVtb8+fPXr19/yy234FvjTEeRBgIgoPe5jNXVd6DmyfTvX1/4Z1RSUmJ1Zf2mbW5ubnJy8tVXX219Z8+hYddOHO7FJRAAgXgigNmgl4D6XnJ9nst+mqfegK3g2omdiQMQAIH4JqD3uYzV1XeX6/Mck0kdMhRAAATqlQBmg14C6mZjMqkzhAIIgIC/COh9LmN19d2AyaTOEAogAAL+IoDZoJeA+m7AZFJnCAUQAAF/EdD7XMbq6rsBk0mdIRRAAAT8RQCzQS8B9d2AyaTOEAogAAL+IqD3uYzV1XcDJhNliF2llwD1QyDW2yBWF7CUSgKyXgLUD+8xJhNlptdRrE79EIgBWS8BAUuppN4GsTr1w3uMyUSZYVfpJUD9EIj1NojVBSylkoCslwD1w3uMyUSZ6XUUq1M/BGJA1ktAwFIqqbdBrE798B5jMlFm2FV6CVA/BGK9DWJ1AUupJCDrJUD98B5jMlFmeh3F6tQPgRiQ9RIQsJRK6m0Qq1M/vMeYTJQZdpVeAtQPgVhvg1hdwFIqCch6CVA/vMeYTJSZXkexOvVDIAZkvQQELKWSehvE6tQP7zEmE2WGXaWXAPVDINbbIFYXsJRKArJeAtQP7zEmE2Wm11GsTv0QiAFZLwEBS6mk3gaxOvXDe4zJRJlhV+klQP0QiPU2iNUFLKWSgKyXAPXDe4zJRJnpdRSrUz8EYkDWS0DAUiqpt0GsTv3wHmMyUWbYVXoJUD8EYr0NYnUBS6kkIOslQP3wHmMyUWZ6HcXq1A+BGJD1EhCwlErqbRCrUz+8x5hMlBl2lV4C1A+BWG+DWF3AUioJyHoJUD+8x5hMlJleR7E69UMgBmS9BAQspZJ6G8Tq1A/vMSYTZYZdpZcA9UMg1tsgVhewlEoCsl4C1A/vMSYTZabXUaxO/RCIAVkvAQFLqaTeBrE69cN7jMlEmWFX6SVA/RCI9TaI1QUspZKArJcA9cN7jMlEmel1FKtTPwRiQNZLQMBSKqm3QaxO/fAeYzJRZthVeglQPwRivQ1idQFLqSQg6yVA/fAeYzJRZnodxerUD4EYkPUSELCUSuptEKtTP7zHmEyUGXaVXgLUD4FYb4NYXcBSKgnIeglQP7zHmEyUmV5HsTr1QyAGZL0EBCylknobxOrUD+8xJhNlhl2llwD1QyDW2yBWF7CUSgKyXgLUD+8xJhNlptdRrE79EIgBWS8BAUuppN4GsTr1w3uMyUSZYVfpJUD9EIj1NojVBSylkoCslwD1w3uMyUSZ6XUUq1M/BGJA1ktAwFIqqbdBrE798B5jMlFm2FV6CVA/BGK9DWJ1AUupJCDrJUD98B5jMlFmeh3F6tQPgRiQ9RIQsJRK6m0Qq1M/vMeYTJQZdpVeAtQPgVhvg1hdwFIqCch6CVA/vMeYTJSZXkexOvVDIAZkvQQELKWSehvE6tQP7zEmE2WGXaWXAPVDINbbIFYXsJRKArJeAtQP7zEmE2Wm11GsTv0QiAFZLwEBS6mk3gaxOvXDe4zJRJlhV+klQP0QiPU2iNUFLKWSgKyXAPXDe4zJRJnpdRSrUz8EYkDWS0DAUiqpt0GsTv3wHmMyUWbYVXoJUD8EYr0NYnUBS6kkIOslQP3wHmMyUWZ6HcXq1A+BGJD1EhCwlErqbRCrUz+8x5hMlBl2lV4C1A+BWG+DWF3AUioJyHoJUD+8x5hMlJleR7E69UMgBmS9BAQspZJ6G8Tq1A/vMSYTZYZdpZcA9UMg1tsgVhewlEoCsl4C1A/vMSYTZabXUaxO/RCIAVkvAQFLqaTeBrE69cN7jMlEmWFX6SVA/RCI9TaI1QUspZKArJcA9cN7jMlEmel1FKtTPwRiQNZLQMBSKqm3QaxO/fAeYzJRZthVeglQPwRivQ1idQFLqSQg6yVA/fAeYzJRZnodxerUD4EYkPUSELCUSuptEKtTP7zHmEyUGXaVXgLUD4FYb4NYXcBSKgnIeglQP7zHmEyUmV5HsTr1QyAGZL0EBCylknobxOrUD+8xJhNlhl2llwD1QyDW2yBWF7CUSgKyXgLUD+8xJhNlptdRrE79EIgBWS8BAUuppN4GsTr1w3useTItX7580KBBeXl5hmEsWLDArr+oqMgIeV1yySX2pdMduHZyuhvJeewqvQSIHRKh3gaxuoSnRBOQ9RIgdkQRuj7PjShE+bcsWrToD3/4Q2lpafhk6tev376fXocOHXLVdO3EVcFK0OsoVmfapJIGyHoJqHjHvFdvg1idaZNDmuvzXHYy2ZWFT6YhQ4bYVzkHrp1wREzTxK7SS4Bpk0qa3gaxuop3zHsBWS8Bpk0Oaa7Pc22TKSsrKzs7u23btiNGjNi/f79DD9Yl105cFawEvY5idaZNKmmArJeAinfMe/U2iNWZNjmkuT7P9UymOXPmLFy4cP369e+++26XLl06depUW1sb3kZtbW31T6+qqirDMKqrq8PTPJ3BrtJLwJNZ0SXrbRCrR+eap7sAWS8BT2ZFTPbpZAqtde/evYmJiaWlpaEnrePi4uKQ70n88xCTSe+OVF893OWYn1EvEgoqBGJuaLigSnm4V51AuCNezzSAyWSa5rnnnjtlypTw3vCeSX0P+U0h3OWYn/Fby0GrJ+aGhgsGDanf+g13xOuZBjCZDh48mJycPHPmTOfeXDtxvt2+6jePg1aPbYTcQdCQ+q1fOWdtZb+1HLR6bCOiPnB9nsv+nOnYsWNr//UyDGPq1Klr167duXPnsWPH7r///pUrV27fvr28vPyyyy7Lz88/evSoc5OunTjfbl8N2h7yW7+2EXIHfms5aPXIOWsrBw2p3/q1jYj6wPV5HuVkOnz4MKem8vJy8oOioqKi48eP9+nTJzs7OzExsU2bNkVFRbt27XJVc+3EVcFK8JvHQauHaZNKWtCQ+q1fFe+Y9/qt5aDVw7TJIc31ec6dTFOmTJkzZ4610s0339yoUaNWrVqtW7fOYe3YXnLthLlc0PaQ3/pl2qSS5reWg1aPinfMe4OG1G/9Mm1ySHN9nnMn09lnn71ixQrTNJcuXdqsWbMlS5bceeedvXv3dlg7tpdcO2Eu5zePg1YP0yaVtKAh9Vvh6Sc8AAAgAElEQVS/Kt4x7/Vby0Grh2mTQ5rr85w7mVJSUqzP3O69996RI0eaprlp06ZmzZo5rB3bS66dMJcL2h7yW79Mm1TS/NZy0OpR8Y55b9CQ+q1fpk0Oaa7Pc+5kysvLs94znXfeeXPnzjVNc+PGjZmZmQ5rx/aSayfM5fzmcdDqYdqkkhY0pH7rV8U75r1+azlo9TBtckhzfZ5zJ9OYMWMKCwt79erVokWLY8eOmaY5Z86cCy64wGHt2F5y7YS5XND2kN/6Zdqkkua3loNWj4p3zHuDhtRv/TJtckhzfZ5zJ9P333//1FNP3XvvvWvWrLHWe/bZZ6dPn+6wdmwvuXbCXM5vHgetHqZNKmlBQ+q3flW8Y97rt5aDVg/TJoc01+c5dzLV1NQ4LFMPl1w7YdYQtD3kt36ZNqmk+a3loNWj4h3z3qAh9Vu/TJsc0lyf59zJlJ6efvvtt3/88ccOi4lecu2EubrfPA5aPUybVNKChtRv/ap4x7zXby0HrR6mTQ5prs9z7mR69913f/GLXyQlJbVt23by5Ml79uxxWFXikmsnzEWDtof81i/TJpU0v7UctHpUvGPeGzSkfuuXaZNDmuvznDuZrDUOHjw4derU888/v0mTJgMHDiwtLT158qTD8jG85NoJcy2/eRy0epg2qaQFDanf+lXxjnmv31oOWj1MmxzSXJ/n3iaTvdILL7yQnJyckJCQnZ398MMPf/vtt/YloQPXTpjrBm0P+a1fpk0qaX5rOWj1qHjHvDdoSP3WL9MmhzTX57m3ybRv374nn3yyffv2aWlpv/71r8vKymbNmtW5c+d6+MsgXDtxoBB6yW8eB62eUC+EjoOG1G/9CtkaKuu3loNWT6gX0R27Ps+5k6m0tHTQoEGJiYldunT53//939C/0bWysjIxMTG6+vh3uXbClAraHvJbv0ybVNL81nLQ6lHxjnlv0JD6rV+mTQ5prs9z7mRq2rTpyJEjP//88/DFjh8//uijj4afj+0Z106Yy/nN46DVw7RJJS1oSP3Wr4p3zHv91nLQ6mHa5JDm+jznTqZ6+EmSQxumabp24ny7fTVoe8hv/dpGyB34reWg1SPnrK0cNKR+69c2IuoD1+c5dzLZFRw/frw65GWflz5w7YRZgN88Dlo9TJtU0oKG1G/9qnjHvNdvLQetHqZNDmmuz3PuZKqpqRkzZkx2dnajf385rB3bS66dMJcL2h7yW79Mm1TS/NZy0OpR8Y55b9CQ+q1fpk0Oaa7Pc+5kGj16dIcOHd56663U1NQZM2Y8/vjjrVu3njVrlsPasb3k2glzOb95HLR6mDappAUNqd/6VfGOea/fWg5aPUybHNJcn+fcyVRQUFBeXm6aZmZm5pYtW0zTfO211/r37++wdmwvuXbCXC5oe8hv/TJtUknzW8tBq0fFO+a9QUPqt36ZNjmkuT7PuZMpPT19x44dpmnm5+d/9tlnpmlu27YtPT3dYe3YXnLthLmc3zwOWj1Mm1TSgobUb/2qeMe8128tB60epk0Oaa7Pc+5k+tnPflZRUWGaZu/eve+//37TNJ9//vn8/HyHtWN7ybUT5nJB20N+65dpk0qa31oOWj0q3jHvDRpSv/XLtMkhzfV5zp1MU6dOff75503TLCsrS01NTUpKatSo0XPPPeewdmwvuXbCXM5vHgetHqZNKmlBQ+q3flW8Y97rt5aDVg/TJoc01+c5dzKFrrFz587S0tJ169aFnpQ+du2EWUDQ9pDf+mXapJLmt5aDVo+Kd8x7g4bUb/0ybXJIc32esybTDz/88Oqrrw4cOLBTp06dO3cePHjwzJkz6+rqHBaO+SXXTpgr+s3joNXDtEklLWhI/davinfMe/3WctDqYdrkkOb6PHefTHV1dQMHDkxISOjateuwYcOGDh16/vnnJyQkDBkyxGHhmF9y7YS5YtD2kN/6Zdqkkua3loNWj4p3zHuDhtRv/TJtckhzfZ67T6YZM2ZkZmaWlZWFLvPhhx9mZmbOnDkz9KTosWsnzNX95nHQ6mHapJIWNKR+61fFO+a9fms5aPUwbXJIc32eu0+m3r17T548OXyNiRMn9unTJ/y80BnXTpjrBm0P+a1fpk0qaX5rOWj1qHjHvDdoSP3WL9MmhzTX57n7ZMrJyVm7dm34GmvWrMnJyQk/L3TGtRPmun7zOGj1MG1SSQsaUr/1q+Id816/tRy0epg2OaS5Ps/dJ1NiYuLevXvD19izZ09SUlL4eaEzrp0w1w3aHvJbv0ybVNL81nLQ6lHxjnlv0JD6rV+mTQ5prs9z98nUqFGjAwcOhK/xzTffNGrUKPy80BnXTpjr+s3joNXDtEklLWhI/davinfMe/3WctDqYdrkkOb6PHefTAkJCQMGDLgh7DVgwABMpqDtSPV+HTZrrC6pFwkFFQKx8tFBR6U83KtOwMEa5qUYTKbhji9mHepprp0wl1B3BQoqBJg2qaSplId71QmoeMe8V71IKKgQYNrkkOb6PHd/z+SgXp+XXDthFqPiB+5VJ8C0SSVNvUgoqBBQ8Y55r0p5uFedANMmhzTX5zkm00J1n6DAJ+CwWWN1iV8MMiUIxMpHBx2JsqHJJ+BgDfMSJhMFxaePTAkC1A+BWKJsaPIJCFhKJfnFIFOCAPXDe4zJRJlJ+ARNPgHqh0DMLwaZEgQELKWSEmVDk0+A+uE9xmSizPj0kSlBgPohEEuUDU0+AQFLqSS/GGRKEKB+eI8xmSgzCZ+gySdA/RCI+cUgU4KAgKVUUqJsaPIJUD+8x5hMlBmfPjIlCFA/BGKJsqHJJyBgKZXkF4NMCQLUD+8xJhNlJuETNPkEqB8CMb8YZEoQELCUSkqUDU0+AeqH9xiTiTLj00emBAHqh0AsUTY0+QQELKWS/GKQKUGA+uE9xmSizCR8giafAPVDIOYXg0wJAgKWUkmJsqHJJ0D98B5jMlFmfPrIlCBA/RCIJcqGJp+AgKVUkl8MMiUIUD+8x5hMlJmET9DkE6B+CMT8YpApQUDAUiopUTY0+QSoH95jTCbKjE8fmRIEqB8CsUTZ0OQTELCUSvKLQaYEAeqH9xiTiTKT8AmafALUD4GYXwwyJQgIWEolJcqGJp8A9cN7jMlEmfHpI1OCAPVDIJYoG5p8AgKWUkl+MciUIED98B5jMlFmEj5Bk0+A+iEQ84tBpgQBAUuppETZ0OQToH54jzGZKDM+fWRKEKB+CMQSZUOTT0DAUirJLwaZEgSoH95jTCbKTMInaPIJUD8EYn4xyJQgIGAplZQoG5p8AtQP7zEmE2XGp49MCQLUD4FYomxo8gkIWEol+cUgU4IA9cN7jMlEmUn4BE0+AeqHQMwvBpkSBAQspZISZUOTT4D64T3GZKLM+PSRKUGA+iEQS5QNTT4BAUupJL8YZEoQoH54jzGZKDMJn6DJJ0D9EIj5xSBTgoCApVRSomxo8glQP7zHmEyUGZ8+MiUIUD8EYomyocknIGApleQXg0wJAtQP7zEmE2Um4RM0+QSoHwIxvxhkShAQsJRKSpQNTT4B6of3GJOJMuPTR6YEAeqHQCxRNjT5BAQspZL8YpApQYD64T3GZKLMJHyCJp8A9UMg5heDTAkCApZSSYmyocknQP3wHmueTMuXLx80aFBeXp5hGAsWLLDrr6urKy4uzsvLS0lJ6dGjR2VlpX3pdAeunZzuRnKeTx+ZEgSIHRKhRNnQ5BOQ8JRo8otBpgQBYkcUoevz3IhClH/LokWL/vCHP5SWlpLJNGXKlMzMzNLS0vXr1w8dOjQvL+/o0aPOsq6dON9uX5XwCZp8ArYRcgf8YpApQUDOWVtZomxo8gnYRkR94Po8l51Mdt2hk6muri43N3fKlCnW1dra2qysrJdfftlOjnjg2knEu8JP8ukjU4JAuCMxPyNRNjT5BGJuaLggvxhkShAId8TrGdfnuYbJtHXrVsMw1qxZYzdz3XXX3XbbbXZoH9TW1lb/9KqqqjIMo7q62r4a3YGET9DkE4jONU938YtBpgQBT2ZFlyxRNjT5BKJzLfQuP06mFStWGIaxZ88eu9C77rqrT58+dmgfFBcXG//+wmTi7x5/Ztrmyh34s/HgVCXnrK0cHJj+7NQ2IuoD/06mvXv32l2NGDGib9++dmgf4D2TP/elSlW2uXIHKuXhXnUCcs7ayupFQkGFgG1E1Ad+nEz8T/NC23btJDTZ4VjFD9yrTsDBmlhdUi8SCioEYuWjg45KebhXnYCDNcxLrs9zDT9nsr4B8eSTT1o9nDhxAt+AUN8rDUWBuXFV0hoKinitU8U75r3xiq6h9MW0ySFN82Q6duzY2n+9DMOYOnXq2rVrd+7caZrmlClTsrKy5s+fv379+ltuuQXfGm8oO1K9TofNGqtL6kVCQYVArHx00FEpD/eqE3CwhnlJ82QqLy//928wGEVFRaZpWr9pm5ubm5ycfPXVV69fv961H9dOXBWsBHVXoKBCgGmTSppKebhXnYCKd8x71YuEggoBpk0Oaa7P83r6NM+hROYl106YOip+4F51AkybVNLUi4SCCgEV75j3qpSHe9UJMG1ySHN9nmMyLVT3CQp8Ag6bNVaX+MUgU4JArHx00JEoG5p8Ag7WMC9hMlFQfPrIlCBA/RCIJcqGJp+AgKVUkl8MMiUIUD+8x5hMlJmET9DkE6B+CMT8YpApQUDAUiopUTY0+QSoH95jTCbKjE8fmRIEqB8CsUTZ0OQTELCUSvKLQaYEAeqH9xiTiTKT8AmafALUD4GYXwwyJQgIWEolJcqGJp8A9cN7jMlEmfHpI1OCAPVDIJYoG5p8AgKWUkl+MciUIED98B5jMlFmEj5Bk0+A+iEQ84tBpgQBAUuppETZ0OQToH54jzGZKDM+fWRKEKB+CMQSZUOTT0DAUirJLwaZEgSoH95jTCbKTMInaPIJUD8EYn4xyJQgIGAplZQoG5p8AtQP7zEmE2XGp49MCQLUD4FYomxo8gkIWEol+cUgU4IA9cN7jMlEmUn4BE0+AeqHQMwvBpkSBAQspZISZUOTT4D64T3GZKLM+PSRKUGA+iEQS5QNTT4BAUupJL8YZEoQoH54jzGZKDMJn6DJJ0D9EIj5xSBTgoCApVRSomxo8glQP7zHmEyUGZ8+MiUIUD8EYomyocknIGApleQXg0wJAtQP7zEmE2Um4RM0+QSoHwIxvxhkShAQsJRKSpQNTT4B6of3GJOJMuPTR6YEAeqHQCxRNjT5BAQspZL8YpApQYD64T3GZKLMJHyCJp8A9UMg5heDTAkCApZSSYmyocknQP3wHmMyUWZ8+siUIED9EIglyoYmn4CApVSSXwwyJQhQP7zHmEyUmYRP0OQToH4IxPxikClBQMBSKilRNjT5BKgf3mNMJsqMTx+ZEgSoHwKxRNnQ5BMQsJRK8otBpgQB6of3GJOJMpPwCZp8AtQPgZhfDDIlCAhYSiUlyoYmnwD1w3uMyUSZ8ekjU4IA9UMgligbmnwCApZSSX4xyJQgQP3wHmMyUWYSPkGTT4D6IRDzi0GmBAEBS6mkRNnQ5BOgfniPMZkoMz59ZEoQoH4IxBJlQ5NPQMBSKskvBpkSBKgf3mNMJspMwido8glQPwRifjHIlCAgYCmVlCgbmnwC1A/vMSYTZcanj0wJAtQPgViibGjyCQhYSiX5xSBTggD1w3uMyUSZSfgETT4B6odAzC8GmRIEBCylkhJlQ5NPgPrhPcZkosz49JEpQYD6IRBLlA1NPgEBS6kkvxhkShCgfniPMZkoMwmfoMknQP0QiPnFIFOCgIClVFKibGjyCVA/vMeYTJQZnz4yJQhQPwRiibKhyScgYCmV5BeDTAkC1A/vMSYTZSbhEzT5BKgfAjG/GGRKEBCwlEpKlA1NPgHqh/cYk4ky49NHpgQB6odALFE2NPkEBCylkvxikClBgPrhPcZkoswkfIImnwD1QyDmF4NMCQICllJJibKhySdA/fAeYzJRZnz6yJQgQP0QiCXKhiafgIClVJJfDDIlCFA/vMeYTJSZhE/Q5BOgfgjE/GKQKUFAwFIqKVE2NPkEqB/eY0wmyoxPH5kSBKgfArFE2dDkExCwlEryi0GmBAHqh/cYk4kyk/AJmnwC1A+BmF8MMiUICFhKJSXKhiafAPXDe4zJRJnx6SNTggD1QyCWKBuafAICllJJfjHIlCBA/fAeYzJRZhI+QZNPgPohEPOLQaYEAQFLqaRE2dDkE6B+eI8xmSgzPn1kShCgfgjEEmVDk09AwFIqyS8GmRIEqB/eY0wmykzCJ2jyCVA/BGJ+MciUICBgKZWUKBuafALUD+8xJhNlxqePTAkC1A+BWKJsaPIJCFhKJfnFIFOCAPXDe4zJRJlJ+ARNPgHqh0DMLwaZEgQELKWSEmVDk0+A+uE9xmSizPj0kSlBgPohEEuUDU0+AQFLqSS/GGRKEKB+eI8xmSgzCZ+gySdA/RCI+cUgU4KAgKVUUqJsaPIJUD+8x5hMlBmfPjIlCFA/BGKJsqHJJyBgKZXkF4NMCQLUD+8xJhNlJuETNPkEqB8CMb8YZEoQELCUSkqUDU0+AeqH9xiTiTLj00emBAHqh0AsUTY0+QQELKWS/GKQKUGA+uE9xmSizCR8giafAPVDIOYXg0wJAgKWUkmJsqHJJ0D98B5jMlFmfPrIlCBA/RCIJcqGJp+AgKVUkl8MMiUIUD+8x5hMlJmET9DkE6B+CMT8YpApQUDAUiopUTY0+QSoH95jTCbKjE8fmRIEqB8CsUTZ0OQTELCUSvKLQaYEAeqH9xiTiTKT8AmafALUD4GYXwwyJQgIWEolJcqGJp8A9cN7jMlEmfHpI1OCAPVDIJYoG5p8AgKWUkl+MciUIED98B5jMlFmEj5Bk0+A+iEQ84tBpgQBAUuppETZ0OQToH54jzGZKDM+fWRKEKB+CMQSZUOTT0DAUirJLwaZEgSoH95jTCbKTMInaPIJUD8EYn4xyJQgIGAplZQoG5p8AtQP77FPJ1NxcbER8srJyXFtzbUTVwUrgU8fmRIEmDappEmUDU0+ARXvmPfyi0GmBAGmTQ5prs9zw+FmuUvFxcWdOnXa99PrwIEDrmu5duKqYCVI+ARNPgGmTSpp/GKQKUFAxTvmvRJlQ5NPgGmTQ5rr81zbZOrSpYtD3eGXXDsJvyXiGT59ZEoQiGhKbE9KlA1NPoHYuhlRjV8MMiUIRDTF00nX57m2yZSWlpaXl3fWWWcNHTp069atEbuqra2t/ulVVVVlGEZ1dXXETP5JCZ+gySfAdyrqTH4xyJQgELVx/BslyoYmnwDfqdNl+nQyLVq0aN68eV999dWyZct69OiRk5Nz8ODB8B7Ij6Mwmfhbx7eZ4S7H/Ixvew9IYTE3NFwwICR922a4I17P+HQyhbZRU1OTk5PzzDPPhJ60jvGeybdbM+rCwl2O+Zmoa8ONMSEQc0PDBWNSJ0SiJhDuiNczDWAymabZq1eve+65x7k3106cb7evRm0GbowJAdsIuYOY1AmRqAnIOWsrR10bbowJAduIqA9cn+d6fs4U2k9tbW1+fv5jjz0WejL82LWT8FsinomJMRCJmkBEU2J7MuracGNMCMTWzYhqMakTIlETiGiKp5Ouz3M9k+n++++vqKjYtm3bp59+OmjQoMzMzB07djg35tqJ8+321ajNwI0xIWAbIXcQkzohEjUBOWdt5ahrw40xIWAbEfWB6/Ncz2QaOnRoXl5eYmJiq1atfvGLX/ztb39z7dC1E1cFKyEmxkAkagJMm1TSoq4NN8aEgIp3zHtjUidEoibAtMkhzfV5rmcyOVR8ukuunZzuRnI+ajNwY0wIEDskwpjUCZGoCUh4SjSjrg03xoQAsSOK0PV5jsm0MCZWQYRJIIpN7PUWZiVIEyLg1a8o8oUqhyyTQBSWkVswmQgQk4keaUIEqB8CsVDlkGUSELCUSjIrQZoQAeqH9xiTiTITsgqyTALUD4GYWQnShAgIWEolhSqHLJMA9cN7jMlEmTHRI02IAPVDIBaqHLJMAgKWUklmJUgTIkD98B5jMlFmQlZBlkmA+iEQMytBmhABAUuppFDlkGUSoH54jzGZKDMmeqQJEaB+CMRClUOWSUDAUirJrARpQgSoH95jTCbKTMgqyDIJUD8EYmYlSBMiIGAplRSqHLJMAtQP7zEmE2XGRI80IQLUD4FYqHLIMgkIWEolmZUgTYgA9cN7jMlEmQlZBVkmAeqHQMysBGlCBAQspZJClUOWSYD64T3GZKLMmOiRJkSA+iEQC1UOWSYBAUupJLMSpAkRoH54jzGZKDMhqyDLJED9EIiZlSBNiICApVRSqHLIMglQP7zHmEyUGRM90oQIUD8EYqHKIcskIGAplWRWgjQhAtQP7zEmE2UmZBVkmQSoHwIxsxKkCREQsJRKClUOWSYB6of3GJOJMmOiR5oQAeqHQCxUOWSZBAQspZLMSpAmRID64T3GZKLMhKyCLJMA9UMgZlaCNCECApZSSaHKIcskQP3wHmMyUWZM9EgTIkD9EIiFKocsk4CApVSSWQnShAhQP7zHmEyUmZBVkGUSoH4IxMxKkCZEQMBSKilUOWSZBKgf3mNMJsqMiR5pQgSoHwKxUOWQZRIQsJRKMitBmhAB6of3GJOJMhOyCrJMAtQPgZhZCdKECAhYSiWFKocskwD1w3uMyUSZMdEjTYgA9UMgFqocskwCApZSSWYlSBMiQP3wHmMyUWZCVkGWSYD6IRAzK0GaEAEBS6mkUOWQZRKgfniPMZkoMyZ6pAkRoH4IxEKVQ5ZJQMBSKsmsBGlCBKgf3mNMJspMyCrIMglQPwRiZiVIEyIgYCmVFKocskwC1A/vMSYTZcZEjzQhAtQPgViocsgyCQhYSiWZlSBNiAD1w3uMyUSZCVkFWSYB6odAzKwEaUIEBCylkkKVQ5ZJgPrhPcZkosyY6JEmRID6IRALVQ5ZJgEBS6kksxKkCRGgfniPMZkoMyGrIMskQP0QiJmVIE2IgIClVFKocsgyCVA/vMeYTJQZEz3ShAhQPwRiocohyyQgYCmVZFaCNCEC1A/vMSYTZSZkFWSZBKgfAjGzEqQJERCwlEoKVQ5ZJgHqh/cYk4kyY6JHmhAB6odALFQ5ZJkEBCylksxKkCZEgPrhPcZkosyErIIskwD1QyBmVoI0IQICllJJocohyyRA/fAeYzJRZkz0SBMiQP0QiIUqhyyTgIClVJJZCdKECFA/vMeYTJSZkFWQZRKgfgjEzEqQJkRAwFIqKVQ5ZJkEqB/eY0wmyoyJHmlCBKgfArFQ5ZBlEhCwlEoyK0GaEAHqh/cYk4kyE7IKskwC1A+BmFkJ0oQICFhKJYUqhyyTAPXDe4zJRJkx0SNNiAD1QyAWqhyyTAICllJJZiVIEyJA/fAeYzJRZkJWQZZJgPohEDMrQZoQAQFLqaRQ5ZBlEqB+eI8xmSgzJnqkCRGgfgjEQpVDlklAwFIqyawEaUIEqB/eY0wmykzIKsgyCVA/BGJmJUgTIiBgKZUUqhyyTALUD+8xJhNlxkSPNCEC1A+BWKhyyDIJCFhKJZmVIE2IAPXDe4zJRJkJWQVZJgHqh0DMrARpQgQELKWSQpVDlkmA+uE9xmSizJjokSZEgPohEAtVDlkmAQFLqSSzEqQJEaB+eI8xmSgzIasgyyRA/RCImZUgTYiAgKVUUqhyyDIJUD+8x5hMlBkTPdKECFA/BGKhyiHLJCBgKZVkVoI0IQLUD+8xJhNlJmQVZJkEqB8CMbMSpAkRELCUSgpVDlkmAeqH9xiTiTJjokeaEAHqh0AsVDlkmQQELKWSzEqQJkSA+uE9xmSizISsgiyTAPVDIGZWgjQhAgKWUkmhyiHLJED98B5jMlFmTPRIEyJA/RCIhSqHLJOAgKVUklkJ0oQIUD+8x5hMlJmQVZBlEqB+CMTMSpAmREDAUiopVDlkmQSoH95jTCbKjIkeaUIEqB8CsVDlkGUSELCUSjIrQZoQAeqH9xiTiTITsgqyTALUD4GYWQnShAgIWEolhSqHLJMA9cN7jMlEmTHRI02IAPVDIBaqHLJMAgKWUklmJUgTIkD98B5jMlFmQlZBlkmA+iEQMytBmhABAUuppFDlkGUSoH54jzGZKDMmeqQJEaB+CMRClUOWSUDAUirJrARpQgSoH95jTCbKTMgqyDIJUD8EYmYlSBMiIGAplRSqHLJMAtQP7zEmE2XGRI80IQLUD4FYqHLIMgkIWEolmZUgTYgA9cN77OvJNG3atLPOOis5Oblbt24fffSRc3eunTjfbl8VsgqyTAK2EXIHzEqQJkRAzllbWahyyDIJ2EZEfeD6PDeilla8cc6cOYmJidOnT9+wYcN9992Xnp6+c+dOB03XThzuDb3ERI80IQKhXggdC1UOWSYBIVtDZZmVIE2IQKgX0R27Ps+1Tabu3bvfc889dlft27efMGGCHYYfuHYSfkvEM0JWQZZJIKIpsT3JrARpQgRi62ZENaHKIcskENEUTyddn+d6JtOJEycaN248f/58u5l777336quvtsPwA9dOwm+JeIaJHmlCBCKaEtuTQpVDlkkgtm5GVGNWgjQhAhFN8XTS9XmuZzLt2bPHMIwVK1bYzUycOPG8886zQ+ugtra2+qfXrl27DMOoqqr66USU/1swfi7+TyOBKG3zcpvG7rB0wfi5XryKMhec9RKI0raQ26qqqgzDOHLkCHnm26HOybRy5Uq7jieeeKJdu3Z2aB0UFxcbeIEACIAACMQjgaqqKvLMt0M9k4n5aV7oe6bDhw9v3br1yJEjIXM3cIfWf2iov3EMHLiG0zAsbjheRVkpLK6urj5y5EhVVdUPP/xgjyJyoGcymabZvXv3UaNG2dV06NDB+RsQdmaQD1w/nA0ynPjoHRbHh48OXcBiBzj2JW2TyfrW+Kuvvrphw4bx48enp6fv2LHDLshD/P0AAAw/SURBVAsHEQlgT0fEEk8nYXE8uRmxF1gcEQs5qW0ymaY5bdq0wsLCpKSkbt26LV++nFSGMJwA9nQ4kzg7A4vjzNDwdmBxOJPwMzonU3g1OONMoLa2tri4+Mf/75yGqw2XACxuuN4xK4fFHFCYTBxKyAEBEAABEKg/AphM9ccaK4EACIAACHAIYDJxKCEHBEAABECg/ghgMtUfa6wEAiAAAiDAIYDJxKHU8HIMw1iwYEHDqxsVn4bA9u3bDcNYu3Zt+PXy8nLDMA4fPhx+CWe0E+D/SSwuLu7SpYv2gn1SACaTNiP2798/cuTIgoKCpKSknJycPn36hP51TYpl8f88KC6E209HoKioyPoLZZo0adKyZctevXq9+uqrDr/0fjod6/ypU6f27dt38uTJ8DRMpnAm9X9m3759Y8eOPfvss5OSklq3bj1o0KAPPvjANE3+n8Rjx44dPHiw/iv354qYTNp8ufLKKy+55JKysrIdO3Z89tlnkyZNWrhwIbOaU6dOOT/j+H8emCsizSuBoqKifv367du3b/fu3V988cXEiRMzMjL69+8fcbp4FQ/Nx2QKpaHlePv27a1aterYseNbb721adOmysrKZ555xvqLQDl/Euvq6mK+K7RwiOGimEwxhOlB6vDhw4ZhVFRUhN/zzDPPdO7cOS0trXXr1qNGjTp27JiVU1JSkpWV9d5773Xo0KFx48bbtm37/PPPe/Xq1aJFi6ZNm1599dVffPGFrWYYxvTp06+//vrU1NRzzz33nXfesS/hoH4IFBUVDRkyJHStDz/80PLFNM2ILh85ciQlJeWvf/2rfVdpaWlaWtqxY8fIp3nvv/9+27ZtU1JSevbsWVJSgk/zbGJaDvr375+fn19TUxO6uvX56un+JFr/PbF48eILL7wwMTGxrKws9NO88vLyiy++OC0tLSsr6/LLLw/g34+DyRS6l+rv+OTJkxkZGePHjw//tdlnn322rKxs27ZtH374Ybt27ey/XbCkpCQxMfHyyy9fsWLFxo0ba2pqPvzww7/85S8b/vW68847c3Jyjh49avVgGEbr1q1ff/31LVu23HvvvRkZGYcOHaq/9rCSaYZPJtM0u3Tp0r9/f9M0T+fyjTfe+Jvf/Mbmd+ONN95yyy2maYZOpl27diUnJ993330bN26cNWtWTk4OJpNNrP4PDh06lJCQMGnSpIhLn+5PojWZzj///KVLl3799dc/fo5nT6aTJ09mZWX993//99dff71hw4Y///nPzv/ed8R1G/pJTCZtDs6bN++MM85ISUm5/PLLH3zwwS+//DK8lLlz57Zo0cI6b/2n8bp168LTTNM8depUZmbme++9Z101DOOhhx6yjmtqahISEkL/SzyiAk7GlkDEyTR06NAOHTqQhUJdnj9/fkZGxrfffmuaZnV1dUpKyvvvv08m04MPPtihQ4e6ujpL53e/+x0mE0Fan+Fnn31mGEbov4Mauvrp/iRak+ntt9+2k+3JdOjQodN9oGInx/0BJpNOi7/77rulS5c+9thjl112WePGjUtKSkzTLCsr69WrV6tWrTIyMlJSUgzDsD4lKCkpSUpKsp9Hpmnu37//7rvvbtu2bdOmTdPT0xMSEqZNm2b1YxjG3Llz7d6aNm06c+ZMO8RBPRCIOJl++ctfduzY0cHlEydONGvW7I033jBNc8aMGdnZ2dZPIELfM11//fW333673cLbb7+NyWTTqP+DTz/91OGHSaf7k2hNpt27d9sF25PJNM3hw4cnJycPGjToueee27t3r50TnANMJr94feedd7Zp02bHjh0pKSnjx49ftWrVpk2bXn31VfuhY/2cKbTc/v37X3TRRe+//35lZeWWLVvOPPPMZ5991kogf1SysrKssRd6O45FCUScTD/72c8GDhzo4LJpmiNGjBg8eLBpmr169Ro7dqxVZOhkGjJkCCaTqHeexF0/zQv9/Q37T6I1mUK/6x86mUzTXLNmzaRJky677LKMjIxVq1Z5KikOkjGZ/GLiM88806JFi3nz5jVp0sT+3t3jjz/uMJkyMjJee+01qwHrX6PHZPKLnZF+zmR9A2LGjBkOLpumWV5enpiYWFlZ2bhxY/uRFDqZrE/z7E4nTJhgbxL7JA7qk0C/fv0cvgER3WSy67/00kvHjRtnhwE5wGTSY/TBgwd//vOf/+Uvf/nyyy+3bds2d+7cnJycO+64Y+3atYZhPPfcc1u3bn3ttdfy8/Pth074e6auXbv27t17w4YNn3766VVXXZWamorJpMfOSKtG/Nb4oEGDTp065eCyaZp1dXWtW7fu0qXLOeecYwuHTqadO3cmJSX953/+58aNG2fPnp2bm2tvEjsfB/VJYNu2bbm5uR07dpw3b97mzZs3bNjw/PPPt2/fPvz3mTjvmbZt2zZhwoSVK1fu2LFjyZIlzZs3f/HFF+uzHT+shcmkx4Xa2toJEyZ069YtKysrLS2tXbt2Dz300PHjx03TnDp1al5eXmpqat++fV977TX7oRM+mdasWXPRRRclJye3bdv2rbfeKiwsxGTSY2ekVUN/0zY7O7tXr14zZsyw3w2fzmVL6YEHHjAM45FHHrGFQyeTaZrvvffeueeem5ycfNVVV82YMcPeJHY+DuqZwN69e8eMGWP9g3P5+fnXXXddeXl5dJPpm2++uf766/Py8pKSkgoLCx955BF729RzUxqXw2TSCB9LgwAIgAAIRCCAyRQBCk6BAAiAAAhoJIDJpBE+lgYBEAABEIhAAJMpAhScAgEQAAEQ0EgAk0kjfCwNAiAAAiAQgQAmUwQoOAUCIAACIKCRACaTRvhYGgRAAARAIAIBTKYIUHAKBEAABEBAIwFMJo3wsTQIgAAIgEAEAphMEaDgFAjEhECPHj3uu+++UKkFCxYYBv7QhSLBMQhEIIA/JBGg4BQIxISA0GQ6ceJETMqDCAj4lgAmk2+tQWENnoDDZFq3bl3Pnj0zMjIyMzO7deu2evVqq9sVK1ZcddVVKSkprVu3HjdunP0PeBcWFj7++ONFRUVNmza97bbbTpw4MWbMmNzc3OTk5B//rrbT/YOqDZ4gGggqAUymoDqPvuUJOEymTp06/eY3v/n73/++efPmuXPnWv9U8VdffZWRkfHss89u3rx5xYoVF1xwwfDhw60yCwsLf/z3IZ966qkt/3o99dRTBQUFH3300Y4dOz7++OPXX39dvhusAAL1RwCTqf5YY6WgEXCYTJmZmX/+858JkFtvvXXkyJH2yY8//rhRo0bfffedaZqFhYXXX3+9fWncuHHXXHNN6D9wbF/CAQjEAQFMpjgwES34lIDDZCouLm7SpMm11147efLkr7/+2mqgY8eOSUlJ6T+90tLSDMPYsGGDNZmeeOIJu88vvviiefPmbdu2HTdu3JIlS+zzOACB+CCAyRQfPqILPxIYPHiw/XGcVV9JSUnTpk2t402bNk2dOrV3795JSUnz5883TbN9+/bjxo2zPq+z/7/1fYfQf3zLur26unrOnDkjRozIysq68cYb/dg/agKBaAlgMkVLDveBgBuBBx54oHPnzqFZo0ePvvjii0PPmKY5bNiwwYMHm6b5q1/96pprriFXrTB8MtlpixcvNgzj0KFD9hkcgEBDJ4DJ1NAdRP3+JbB9+/bU1NTRo0evW7du06ZNf/zjH5OTk+fOnXv8+PExY8aUl5fv2LHjk08+Oeecc37729+apvnll19a+WvXrt28efM777wzduxYqz0ymaZOnfrGG2/8/e9/37Rp05133pmbmxvAf/bUv8ajMmUCmEzKCCEAAqcn8H//9399+/Zt2bJl06ZNL7roojfeeMM0zRMnTgwbNqygoCApKalVq1Zjx461vuZgmubnn3/eu3fvjIyM9PT0888/f+LEiZY2mUyvvPJK165d09PTmzZteu21165Zs+b0JeAKCDQ8AphMDc8zVAwCIAAC8U0Akym+/UV3IAACINDwCGAyNTzPUDEIgAAIxDcBTKb49hfdgQAIgEDDI4DJ1PA8Q8UgAAIgEN8EMJni2190BwIgAAINjwAmU8PzDBWDAAiAQHwTwGSKb3/RHQiAAAg0PAKYTA3PM1QMAiAAAvFNAJMpvv1FdyAAAiDQ8AhgMjU8z1AxCIAACMQ3AUym+PYX3YEACIBAwyOAydTwPEPFIAACIBDfBP4fPguKv+EI2t0AAAAASUVORK5CYII=)\n",
        "\n",
        "```\n",
        "(['Sarah', 'David', 'Chris'], [19, 19, 26])\n",
        "```\n"
      ],
      "metadata": {
        "id": "Gm6gXYz_8Uo_"
      },
      "id": "Gm6gXYz_8Uo_"
    },
    {
      "cell_type": "markdown",
      "source": [
        "``question 7_4``"
      ],
      "metadata": {
        "id": "AOQOivNI8tci"
      },
      "id": "AOQOivNI8tci"
    },
    {
      "cell_type": "code",
      "source": [
        "print(n.question_7_4())"
      ],
      "metadata": {
        "id": "P5MQ9zcY8w3c"
      },
      "id": "P5MQ9zcY8w3c",
      "execution_count": null,
      "outputs": []
    },
    {
      "cell_type": "markdown",
      "source": [
        "Result:\n",
        "\n",
        "![image.png](data:image/png;base64,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)\n",
        "\n",
        "```\n",
        "[10000 14000 11000 23000 26000 9000 7000 13000 25000 20000 20000 21000 9000 20000 9000 9000 12000 19000 20000 24000 8000 21000 25000 10000 2000 22000 7000 16000 21000 16000]\n",
        "```"
      ],
      "metadata": {
        "id": "fFPyO5eO8znz"
      },
      "id": "fFPyO5eO8znz"
    }
  ],
  "metadata": {
    "kernelspec": {
      "display_name": ".venv",
      "language": "python",
      "name": "python3"
    },
    "language_info": {
      "codemirror_mode": {
        "name": "ipython",
        "version": 3
      },
      "file_extension": ".py",
      "mimetype": "text/x-python",
      "name": "python",
      "nbconvert_exporter": "python",
      "pygments_lexer": "ipython3",
      "version": "3.10.8"
    },
    "colab": {
      "provenance": [],
      "include_colab_link": true
    }
  },
  "nbformat": 4,
  "nbformat_minor": 5
}